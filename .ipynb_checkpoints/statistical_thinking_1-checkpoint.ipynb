{
 "cells": [
  {
   "cell_type": "markdown",
   "metadata": {},
   "source": [
    "# Statistical Thinking in Python (Part 1)\n",
    "\n",
    "After all of the hard work of acquiring data and getting them into a form you can work with, you ultimately want to make clear, succinct conclusions from them. This crucial last step of a data analysis pipeline hinges on the principles of statistical inference. In this course, you will start building the foundation you need to think statistically, to speak the language of your data, to understand what they are telling you."
   ]
  },
  {
   "cell_type": "markdown",
   "metadata": {
    "toc": true
   },
   "source": [
    "<h1>Table of Contents<span class=\"tocSkip\"></span></h1>\n",
    "<div class=\"toc\"><ul class=\"toc-item\"><li><span><a href=\"#Statistical-Thinking-in-Python-(Part-1)\" data-toc-modified-id=\"Statistical-Thinking-in-Python-(Part-1)-1\"><span class=\"toc-item-num\">1&nbsp;&nbsp;</span>Statistical Thinking in Python (Part 1)</a></span></li><li><span><a href=\"#Graphical-exploratory-data-analysis\" data-toc-modified-id=\"Graphical-exploratory-data-analysis-2\"><span class=\"toc-item-num\">2&nbsp;&nbsp;</span>Graphical exploratory data analysis</a></span><ul class=\"toc-item\"><li><span><a href=\"#Introduction-to-exploratory-data-analysis\" data-toc-modified-id=\"Introduction-to-exploratory-data-analysis-2.1\"><span class=\"toc-item-num\">2.1&nbsp;&nbsp;</span>Introduction to exploratory data analysis</a></span><ul class=\"toc-item\"><li><span><a href=\"#Tukey's-comments-on-EDA\" data-toc-modified-id=\"Tukey's-comments-on-EDA-2.1.1\"><span class=\"toc-item-num\">2.1.1&nbsp;&nbsp;</span>Tukey's comments on EDA</a></span></li><li><span><a href=\"#Advantages-of-graphical-EDA\" data-toc-modified-id=\"Advantages-of-graphical-EDA-2.1.2\"><span class=\"toc-item-num\">2.1.2&nbsp;&nbsp;</span>Advantages of graphical EDA</a></span></li></ul></li><li><span><a href=\"#Plotting-a-histogram\" data-toc-modified-id=\"Plotting-a-histogram-2.2\"><span class=\"toc-item-num\">2.2&nbsp;&nbsp;</span>Plotting a histogram</a></span><ul class=\"toc-item\"><li><span><a href=\"#Plotting-a-histogram-of-iris-data\" data-toc-modified-id=\"Plotting-a-histogram-of-iris-data-2.2.1\"><span class=\"toc-item-num\">2.2.1&nbsp;&nbsp;</span>Plotting a histogram of iris data</a></span></li><li><span><a href=\"#Axis-labels!\" data-toc-modified-id=\"Axis-labels!-2.2.2\"><span class=\"toc-item-num\">2.2.2&nbsp;&nbsp;</span>Axis labels!</a></span></li><li><span><a href=\"#Adjusting-the-number-of-bins-in-a-histogram\" data-toc-modified-id=\"Adjusting-the-number-of-bins-in-a-histogram-2.2.3\"><span class=\"toc-item-num\">2.2.3&nbsp;&nbsp;</span>Adjusting the number of bins in a histogram</a></span></li></ul></li><li><span><a href=\"#Plotting-all-of-your-data:-Bee-swarm-plots\" data-toc-modified-id=\"Plotting-all-of-your-data:-Bee-swarm-plots-2.3\"><span class=\"toc-item-num\">2.3&nbsp;&nbsp;</span>Plotting all of your data: Bee swarm plots</a></span><ul class=\"toc-item\"><li><span><a href=\"#Bee-swarm-plot\" data-toc-modified-id=\"Bee-swarm-plot-2.3.1\"><span class=\"toc-item-num\">2.3.1&nbsp;&nbsp;</span>Bee swarm plot</a></span></li><li><span><a href=\"#Interpreting-a-bee-swarm-plot\" data-toc-modified-id=\"Interpreting-a-bee-swarm-plot-2.3.2\"><span class=\"toc-item-num\">2.3.2&nbsp;&nbsp;</span>Interpreting a bee swarm plot</a></span></li></ul></li><li><span><a href=\"#Plotting-all-of-your-data:-Empirical-cumulative-distribution-functions\" data-toc-modified-id=\"Plotting-all-of-your-data:-Empirical-cumulative-distribution-functions-2.4\"><span class=\"toc-item-num\">2.4&nbsp;&nbsp;</span>Plotting all of your data: Empirical cumulative distribution functions</a></span><ul class=\"toc-item\"><li><ul class=\"toc-item\"><li><span><a href=\"#add-annotations\" data-toc-modified-id=\"add-annotations-2.4.0.1\"><span class=\"toc-item-num\">2.4.0.1&nbsp;&nbsp;</span>add annotations</a></span></li><li><span><a href=\"#plot-multiple-ECDFs\" data-toc-modified-id=\"plot-multiple-ECDFs-2.4.0.2\"><span class=\"toc-item-num\">2.4.0.2&nbsp;&nbsp;</span>plot multiple ECDFs</a></span></li></ul></li><li><span><a href=\"#Computing-the-ECDF\" data-toc-modified-id=\"Computing-the-ECDF-2.4.1\"><span class=\"toc-item-num\">2.4.1&nbsp;&nbsp;</span>Computing the ECDF</a></span><ul class=\"toc-item\"><li><span><a href=\"#def-ecdf()\" data-toc-modified-id=\"def-ecdf()-2.4.1.1\"><span class=\"toc-item-num\">2.4.1.1&nbsp;&nbsp;</span>def ecdf()</a></span></li></ul></li><li><span><a href=\"#Plotting-the-ECDF\" data-toc-modified-id=\"Plotting-the-ECDF-2.4.2\"><span class=\"toc-item-num\">2.4.2&nbsp;&nbsp;</span>Plotting the ECDF</a></span></li><li><span><a href=\"#Comparison-of-ECDFs\" data-toc-modified-id=\"Comparison-of-ECDFs-2.4.3\"><span class=\"toc-item-num\">2.4.3&nbsp;&nbsp;</span>Comparison of ECDFs</a></span></li></ul></li><li><span><a href=\"#Onward-toward-the-whole-story\" data-toc-modified-id=\"Onward-toward-the-whole-story-2.5\"><span class=\"toc-item-num\">2.5&nbsp;&nbsp;</span>Onward toward the whole story</a></span></li></ul></li><li><span><a href=\"#Quantitative-exploratory-data-analysis\" data-toc-modified-id=\"Quantitative-exploratory-data-analysis-3\"><span class=\"toc-item-num\">3&nbsp;&nbsp;</span>Quantitative exploratory data analysis</a></span><ul class=\"toc-item\"><li><span><a href=\"#Introduction-to-summary-statistics:-The-sample-mean-and-median\" data-toc-modified-id=\"Introduction-to-summary-statistics:-The-sample-mean-and-median-3.1\"><span class=\"toc-item-num\">3.1&nbsp;&nbsp;</span>Introduction to summary statistics: The sample mean and median</a></span><ul class=\"toc-item\"><li><span><a href=\"#Means-and-medians\" data-toc-modified-id=\"Means-and-medians-3.1.1\"><span class=\"toc-item-num\">3.1.1&nbsp;&nbsp;</span>Means and medians</a></span></li><li><span><a href=\"#Computing-means\" data-toc-modified-id=\"Computing-means-3.1.2\"><span class=\"toc-item-num\">3.1.2&nbsp;&nbsp;</span>Computing means</a></span><ul class=\"toc-item\"><li><span><a href=\"#with-pandas.DataFrame\" data-toc-modified-id=\"with-pandas.DataFrame-3.1.2.1\"><span class=\"toc-item-num\">3.1.2.1&nbsp;&nbsp;</span>with pandas.DataFrame</a></span></li></ul></li></ul></li><li><span><a href=\"#Percentiles,-outliers-and-box-plots\" data-toc-modified-id=\"Percentiles,-outliers-and-box-plots-3.2\"><span class=\"toc-item-num\">3.2&nbsp;&nbsp;</span>Percentiles, outliers and box plots</a></span><ul class=\"toc-item\"><li><span><a href=\"#Computing-percentiles\" data-toc-modified-id=\"Computing-percentiles-3.2.1\"><span class=\"toc-item-num\">3.2.1&nbsp;&nbsp;</span>Computing percentiles</a></span></li><li><span><a href=\"#Comparing-percentiles-to-ECDF\" data-toc-modified-id=\"Comparing-percentiles-to-ECDF-3.2.2\"><span class=\"toc-item-num\">3.2.2&nbsp;&nbsp;</span>Comparing percentiles to ECDF</a></span></li><li><span><a href=\"#Box-and-whisker-plot\" data-toc-modified-id=\"Box-and-whisker-plot-3.2.3\"><span class=\"toc-item-num\">3.2.3&nbsp;&nbsp;</span>Box-and-whisker plot</a></span></li></ul></li><li><span><a href=\"#Variance-and-standard-deviation\" data-toc-modified-id=\"Variance-and-standard-deviation-3.3\"><span class=\"toc-item-num\">3.3&nbsp;&nbsp;</span>Variance and standard deviation</a></span><ul class=\"toc-item\"><li><ul class=\"toc-item\"><li><span><a href=\"#Variance\" data-toc-modified-id=\"Variance-3.3.0.1\"><span class=\"toc-item-num\">3.3.0.1&nbsp;&nbsp;</span>Variance</a></span></li><li><span><a href=\"#Standard-Deviation\" data-toc-modified-id=\"Standard-Deviation-3.3.0.2\"><span class=\"toc-item-num\">3.3.0.2&nbsp;&nbsp;</span>Standard Deviation</a></span></li></ul></li><li><span><a href=\"#Computing-the-variance\" data-toc-modified-id=\"Computing-the-variance-3.3.1\"><span class=\"toc-item-num\">3.3.1&nbsp;&nbsp;</span>Computing the variance</a></span></li><li><span><a href=\"#The-standard-deviation-and-the-variance\" data-toc-modified-id=\"The-standard-deviation-and-the-variance-3.3.2\"><span class=\"toc-item-num\">3.3.2&nbsp;&nbsp;</span>The standard deviation and the variance</a></span></li></ul></li><li><span><a href=\"#Covariance-and-Pearson-correlation-coefficient\" data-toc-modified-id=\"Covariance-and-Pearson-correlation-coefficient-3.4\"><span class=\"toc-item-num\">3.4&nbsp;&nbsp;</span>Covariance and Pearson correlation coefficient</a></span><ul class=\"toc-item\"><li><span><a href=\"#Scatter-plots\" data-toc-modified-id=\"Scatter-plots-3.4.1\"><span class=\"toc-item-num\">3.4.1&nbsp;&nbsp;</span>Scatter plots</a></span></li><li><span><a href=\"#Variance-and-covariance-by-looking\" data-toc-modified-id=\"Variance-and-covariance-by-looking-3.4.2\"><span class=\"toc-item-num\">3.4.2&nbsp;&nbsp;</span>Variance and covariance by looking</a></span></li><li><span><a href=\"#Computing-the-covariance\" data-toc-modified-id=\"Computing-the-covariance-3.4.3\"><span class=\"toc-item-num\">3.4.3&nbsp;&nbsp;</span>Computing the covariance</a></span></li><li><span><a href=\"#Computing-the-Pearson-correlation-coefficient\" data-toc-modified-id=\"Computing-the-Pearson-correlation-coefficient-3.4.4\"><span class=\"toc-item-num\">3.4.4&nbsp;&nbsp;</span>Computing the Pearson correlation coefficient</a></span></li></ul></li></ul></li><li><span><a href=\"#Thinking-probabilistically:-Discrete-variables\" data-toc-modified-id=\"Thinking-probabilistically:-Discrete-variables-4\"><span class=\"toc-item-num\">4&nbsp;&nbsp;</span>Thinking probabilistically: Discrete variables</a></span><ul class=\"toc-item\"><li><span><a href=\"#Probabilistic-logic-and-statistical-inference\" data-toc-modified-id=\"Probabilistic-logic-and-statistical-inference-4.1\"><span class=\"toc-item-num\">4.1&nbsp;&nbsp;</span>Probabilistic logic and statistical inference</a></span><ul class=\"toc-item\"><li><span><a href=\"#What-is-the-goal-of-statistical-inference?\" data-toc-modified-id=\"What-is-the-goal-of-statistical-inference?-4.1.1\"><span class=\"toc-item-num\">4.1.1&nbsp;&nbsp;</span>What is the goal of statistical inference?</a></span></li><li><span><a href=\"#Why-do-we-use-the-language-of-probablility?\" data-toc-modified-id=\"Why-do-we-use-the-language-of-probablility?-4.1.2\"><span class=\"toc-item-num\">4.1.2&nbsp;&nbsp;</span>Why do we use the language of probablility?</a></span></li></ul></li><li><span><a href=\"#Random-number-generators-and-hacker-statistics\" data-toc-modified-id=\"Random-number-generators-and-hacker-statistics-4.2\"><span class=\"toc-item-num\">4.2&nbsp;&nbsp;</span>Random number generators and hacker statistics</a></span><ul class=\"toc-item\"><li><ul class=\"toc-item\"><li><span><a href=\"#Bernoulli-Trial\" data-toc-modified-id=\"Bernoulli-Trial-4.2.0.1\"><span class=\"toc-item-num\">4.2.0.1&nbsp;&nbsp;</span>Bernoulli Trial</a></span></li><li><span><a href=\"#Hacker-stats-probabilities\" data-toc-modified-id=\"Hacker-stats-probabilities-4.2.0.2\"><span class=\"toc-item-num\">4.2.0.2&nbsp;&nbsp;</span>Hacker stats probabilities</a></span></li><li><span><a href=\"#Simulated-coin-flips\" data-toc-modified-id=\"Simulated-coin-flips-4.2.0.3\"><span class=\"toc-item-num\">4.2.0.3&nbsp;&nbsp;</span>Simulated coin flips</a></span></li></ul></li><li><span><a href=\"#Generating-random-numbers-using-the-np.random-module\" data-toc-modified-id=\"Generating-random-numbers-using-the-np.random-module-4.2.1\"><span class=\"toc-item-num\">4.2.1&nbsp;&nbsp;</span>Generating random numbers using the <code>np.random</code> module</a></span><ul class=\"toc-item\"><li><span><a href=\"#Using-np.random.rand\" data-toc-modified-id=\"Using-np.random.rand-4.2.1.1\"><span class=\"toc-item-num\">4.2.1.1&nbsp;&nbsp;</span>Using <code>np.random.rand</code></a></span></li></ul></li><li><span><a href=\"#The-np.random-module-and-Bernoulli-trials\" data-toc-modified-id=\"The-np.random-module-and-Bernoulli-trials-4.2.2\"><span class=\"toc-item-num\">4.2.2&nbsp;&nbsp;</span>The np.random module and Bernoulli trials</a></span><ul class=\"toc-item\"><li><span><a href=\"#def-perform_bernoulli_trials()\" data-toc-modified-id=\"def-perform_bernoulli_trials()-4.2.2.1\"><span class=\"toc-item-num\">4.2.2.1&nbsp;&nbsp;</span>def perform_bernoulli_trials()</a></span></li></ul></li><li><span><a href=\"#How-many-defaults-might-we-expect?\" data-toc-modified-id=\"How-many-defaults-might-we-expect?-4.2.3\"><span class=\"toc-item-num\">4.2.3&nbsp;&nbsp;</span>How many defaults might we expect?</a></span><ul class=\"toc-item\"><li><span><a href=\"#With-list-comprehension\" data-toc-modified-id=\"With-list-comprehension-4.2.3.1\"><span class=\"toc-item-num\">4.2.3.1&nbsp;&nbsp;</span>With <code>list comprehension</code></a></span></li></ul></li><li><span><a href=\"#Will-the-bank-fail?\" data-toc-modified-id=\"Will-the-bank-fail?-4.2.4\"><span class=\"toc-item-num\">4.2.4&nbsp;&nbsp;</span>Will the bank fail?</a></span></li></ul></li><li><span><a href=\"#Probability-distributions-and-stories:-The-Binomial-distribution\" data-toc-modified-id=\"Probability-distributions-and-stories:-The-Binomial-distribution-4.3\"><span class=\"toc-item-num\">4.3&nbsp;&nbsp;</span>Probability distributions and stories: The Binomial distribution</a></span><ul class=\"toc-item\"><li><ul class=\"toc-item\"><li><span><a href=\"#Probability-Mass-Function-(PMF)\" data-toc-modified-id=\"Probability-Mass-Function-(PMF)-4.3.0.1\"><span class=\"toc-item-num\">4.3.0.1&nbsp;&nbsp;</span>Probability Mass Function (PMF)</a></span></li><li><span><a href=\"#Discrete-Uniform-PMF\" data-toc-modified-id=\"Discrete-Uniform-PMF-4.3.0.2\"><span class=\"toc-item-num\">4.3.0.2&nbsp;&nbsp;</span>Discrete Uniform PMF</a></span></li><li><span><a href=\"#Probability-Distribution\" data-toc-modified-id=\"Probability-Distribution-4.3.0.3\"><span class=\"toc-item-num\">4.3.0.3&nbsp;&nbsp;</span>Probability Distribution</a></span></li><li><span><a href=\"#Discrete-Uniform-Distribution\" data-toc-modified-id=\"Discrete-Uniform-Distribution-4.3.0.4\"><span class=\"toc-item-num\">4.3.0.4&nbsp;&nbsp;</span>Discrete Uniform Distribution</a></span></li><li><span><a href=\"#Binomial-Distribution\" data-toc-modified-id=\"Binomial-Distribution-4.3.0.5\"><span class=\"toc-item-num\">4.3.0.5&nbsp;&nbsp;</span>Binomial Distribution</a></span></li></ul></li><li><span><a href=\"#Sampling-out-of-the-Binomial-distribution\" data-toc-modified-id=\"Sampling-out-of-the-Binomial-distribution-4.3.1\"><span class=\"toc-item-num\">4.3.1&nbsp;&nbsp;</span>Sampling out of the Binomial distribution</a></span></li><li><span><a href=\"#Plotting-the-Binomial-PMF\" data-toc-modified-id=\"Plotting-the-Binomial-PMF-4.3.2\"><span class=\"toc-item-num\">4.3.2&nbsp;&nbsp;</span>Plotting the Binomial PMF</a></span></li></ul></li><li><span><a href=\"#Poisson-processes-and-the-Poisson-distribution\" data-toc-modified-id=\"Poisson-processes-and-the-Poisson-distribution-4.4\"><span class=\"toc-item-num\">4.4&nbsp;&nbsp;</span>Poisson processes and the Poisson distribution</a></span><ul class=\"toc-item\"><li><ul class=\"toc-item\"><li><span><a href=\"#Poisson-PMF\" data-toc-modified-id=\"Poisson-PMF-4.4.0.1\"><span class=\"toc-item-num\">4.4.0.1&nbsp;&nbsp;</span>Poisson PMF</a></span></li><li><span><a href=\"#Poisson-CDF\" data-toc-modified-id=\"Poisson-CDF-4.4.0.2\"><span class=\"toc-item-num\">4.4.0.2&nbsp;&nbsp;</span>Poisson CDF</a></span></li></ul></li><li><span><a href=\"#Relationship-between-Binomial-and-Poisson-distribution\" data-toc-modified-id=\"Relationship-between-Binomial-and-Poisson-distribution-4.4.1\"><span class=\"toc-item-num\">4.4.1&nbsp;&nbsp;</span>Relationship between Binomial and Poisson distribution</a></span></li><li><span><a href=\"#How-many-no-hitters-in-a-season?\" data-toc-modified-id=\"How-many-no-hitters-in-a-season?-4.4.2\"><span class=\"toc-item-num\">4.4.2&nbsp;&nbsp;</span>How many no-hitters in a season?</a></span></li><li><span><a href=\"#Was-2015-anomalous?\" data-toc-modified-id=\"Was-2015-anomalous?-4.4.3\"><span class=\"toc-item-num\">4.4.3&nbsp;&nbsp;</span>Was 2015 anomalous?</a></span></li></ul></li></ul></li><li><span><a href=\"#Thinking-probabilistically:-Continuous-variables\" data-toc-modified-id=\"Thinking-probabilistically:-Continuous-variables-5\"><span class=\"toc-item-num\">5&nbsp;&nbsp;</span>Thinking probabilistically: Continuous variables</a></span><ul class=\"toc-item\"><li><span><a href=\"#Probability-density-functions\" data-toc-modified-id=\"Probability-density-functions-5.1\"><span class=\"toc-item-num\">5.1&nbsp;&nbsp;</span>Probability density functions</a></span><ul class=\"toc-item\"><li><span><a href=\"#Continuous-Variables\" data-toc-modified-id=\"Continuous-Variables-5.1.1\"><span class=\"toc-item-num\">5.1.1&nbsp;&nbsp;</span>Continuous Variables</a></span></li><li><span><a href=\"#Probability-Density-Function-(PDF)\" data-toc-modified-id=\"Probability-Density-Function-(PDF)-5.1.2\"><span class=\"toc-item-num\">5.1.2&nbsp;&nbsp;</span>Probability Density Function (PDF)</a></span></li><li><span><a href=\"#Normal-Cumulative-Distribution-Function-(CDF)\" data-toc-modified-id=\"Normal-Cumulative-Distribution-Function-(CDF)-5.1.3\"><span class=\"toc-item-num\">5.1.3&nbsp;&nbsp;</span>Normal Cumulative Distribution Function (CDF)</a></span></li><li><span><a href=\"#Interpreting-PDFs\" data-toc-modified-id=\"Interpreting-PDFs-5.1.4\"><span class=\"toc-item-num\">5.1.4&nbsp;&nbsp;</span>Interpreting PDFs</a></span></li><li><span><a href=\"#Interpreting-CDFs\" data-toc-modified-id=\"Interpreting-CDFs-5.1.5\"><span class=\"toc-item-num\">5.1.5&nbsp;&nbsp;</span>Interpreting CDFs</a></span></li></ul></li><li><span><a href=\"#Introduction-to-the-Normal-distribution\" data-toc-modified-id=\"Introduction-to-the-Normal-distribution-5.2\"><span class=\"toc-item-num\">5.2&nbsp;&nbsp;</span>Introduction to the Normal distribution</a></span><ul class=\"toc-item\"><li><span><a href=\"#Normal-distribution\" data-toc-modified-id=\"Normal-distribution-5.2.1\"><span class=\"toc-item-num\">5.2.1&nbsp;&nbsp;</span>Normal distribution</a></span></li><li><span><a href=\"#The-Normal-PDF\" data-toc-modified-id=\"The-Normal-PDF-5.2.2\"><span class=\"toc-item-num\">5.2.2&nbsp;&nbsp;</span>The Normal PDF</a></span></li><li><span><a href=\"#The-Normal-CDF\" data-toc-modified-id=\"The-Normal-CDF-5.2.3\"><span class=\"toc-item-num\">5.2.3&nbsp;&nbsp;</span>The Normal CDF</a></span></li></ul></li><li><span><a href=\"#The-Normal-distribution:-Properties-and-warnings\" data-toc-modified-id=\"The-Normal-distribution:-Properties-and-warnings-5.3\"><span class=\"toc-item-num\">5.3&nbsp;&nbsp;</span>The Normal distribution: Properties and warnings</a></span><ul class=\"toc-item\"><li><span><a href=\"#Are-the-Belmont-Stakes-results-Normally-distributed?\" data-toc-modified-id=\"Are-the-Belmont-Stakes-results-Normally-distributed?-5.3.1\"><span class=\"toc-item-num\">5.3.1&nbsp;&nbsp;</span>Are the Belmont Stakes results Normally distributed?</a></span></li><li><span><a href=\"#What-are-the-chances-of-a-horse-matching-or-beating-Secretariat's-record?\" data-toc-modified-id=\"What-are-the-chances-of-a-horse-matching-or-beating-Secretariat's-record?-5.3.2\"><span class=\"toc-item-num\">5.3.2&nbsp;&nbsp;</span>What are the chances of a horse matching or beating Secretariat's record?</a></span></li></ul></li><li><span><a href=\"#The-Exponential-distribution\" data-toc-modified-id=\"The-Exponential-distribution-5.4\"><span class=\"toc-item-num\">5.4&nbsp;&nbsp;</span>The Exponential distribution</a></span><ul class=\"toc-item\"><li><span><a href=\"#If-you-have-a-story,-you-can-simulate-it!\" data-toc-modified-id=\"If-you-have-a-story,-you-can-simulate-it!-5.4.1\"><span class=\"toc-item-num\">5.4.1&nbsp;&nbsp;</span>If you have a story, you can simulate it!</a></span></li><li><span><a href=\"#Distribution-of-no-hitters-and-cycles\" data-toc-modified-id=\"Distribution-of-no-hitters-and-cycles-5.4.2\"><span class=\"toc-item-num\">5.4.2&nbsp;&nbsp;</span>Distribution of no-hitters and cycles</a></span></li></ul></li></ul></li></ul></div>"
   ]
  },
  {
   "cell_type": "markdown",
   "metadata": {},
   "source": [
    "**Imports**"
   ]
  },
  {
   "cell_type": "code",
   "execution_count": 1,
   "metadata": {},
   "outputs": [],
   "source": [
    "import pandas as pd\n",
    "import matplotlib.pyplot as plt\n",
    "from matplotlib.patches import Rectangle\n",
    "import numpy as np\n",
    "from pprint import pprint as pp\n",
    "import csv\n",
    "from pathlib import Path\n",
    "import seaborn as sns\n",
    "from scipy.stats import binom\n",
    "\n",
    "from sklearn.datasets import load_iris"
   ]
  },
  {
   "cell_type": "markdown",
   "metadata": {},
   "source": [
    "**Pandas Configuration Options**"
   ]
  },
  {
   "cell_type": "code",
   "execution_count": 2,
   "metadata": {},
   "outputs": [],
   "source": [
    "pd.set_option('max_columns', 200)\n",
    "pd.set_option('max_rows', 300)\n",
    "pd.set_option('display.expand_frame_repr', True)"
   ]
  },
  {
   "cell_type": "markdown",
   "metadata": {},
   "source": [
    "**Data Files Location**\n",
    "\n",
    "* Most data files for the exercises can be found on the [course site](https://www.datacamp.com/courses/statistical-thinking-in-python-part-1)\n",
    "    * [2008 election results (all states)](https://assets.datacamp.com/production/repositories/469/datasets/8fb59b9a99957c3b9b1c82b623aea54d8ccbcd9f/2008_all_states.csv)\n",
    "    * [2008 election results (swing states)](https://assets.datacamp.com/production/repositories/469/datasets/e079fddb581197780e1a7b7af2aeeff7242535f0/2008_swing_states.csv)\n",
    "    * [Belmont Stakes](https://assets.datacamp.com/production/repositories/469/datasets/7507bfed990379f246b4f166ea8a57ecf31c6c9d/belmont.csv)\n",
    "    * [Speed of light](https://assets.datacamp.com/production/repositories/469/datasets/df23780d215774ff90be0ea93e53f4fb5ebbade8/michelson_speed_of_light.csv)"
   ]
  },
  {
   "cell_type": "markdown",
   "metadata": {},
   "source": [
    "**Data File Objects**"
   ]
  },
  {
   "cell_type": "code",
   "execution_count": 3,
   "metadata": {},
   "outputs": [],
   "source": [
    "data = Path.cwd() / 'data' / 'statistical_thinking_1'\n",
    "elections_all_file = data / '2008_all_states.csv'\n",
    "elections_swing_file = data / '2008_swing_states.csv'\n",
    "belmont_file = data / 'belmont.csv'\n",
    "sol_file = data / 'michelson_speed_of_light.csv'"
   ]
  },
  {
   "cell_type": "markdown",
   "metadata": {},
   "source": [
    "**Iris Data Set**"
   ]
  },
  {
   "cell_type": "code",
   "execution_count": 4,
   "metadata": {},
   "outputs": [
    {
     "data": {
      "text/html": [
       "<div>\n",
       "<style scoped>\n",
       "    .dataframe tbody tr th:only-of-type {\n",
       "        vertical-align: middle;\n",
       "    }\n",
       "\n",
       "    .dataframe tbody tr th {\n",
       "        vertical-align: top;\n",
       "    }\n",
       "\n",
       "    .dataframe thead th {\n",
       "        text-align: right;\n",
       "    }\n",
       "</style>\n",
       "<table border=\"1\" class=\"dataframe\">\n",
       "  <thead>\n",
       "    <tr style=\"text-align: right;\">\n",
       "      <th></th>\n",
       "      <th>sepal length (cm)</th>\n",
       "      <th>sepal width (cm)</th>\n",
       "      <th>petal length (cm)</th>\n",
       "      <th>petal width (cm)</th>\n",
       "      <th>target</th>\n",
       "      <th>species</th>\n",
       "    </tr>\n",
       "  </thead>\n",
       "  <tbody>\n",
       "    <tr>\n",
       "      <td>0</td>\n",
       "      <td>5.1</td>\n",
       "      <td>3.5</td>\n",
       "      <td>1.4</td>\n",
       "      <td>0.2</td>\n",
       "      <td>0.0</td>\n",
       "      <td>setosa</td>\n",
       "    </tr>\n",
       "    <tr>\n",
       "      <td>1</td>\n",
       "      <td>4.9</td>\n",
       "      <td>3.0</td>\n",
       "      <td>1.4</td>\n",
       "      <td>0.2</td>\n",
       "      <td>0.0</td>\n",
       "      <td>setosa</td>\n",
       "    </tr>\n",
       "    <tr>\n",
       "      <td>2</td>\n",
       "      <td>4.7</td>\n",
       "      <td>3.2</td>\n",
       "      <td>1.3</td>\n",
       "      <td>0.2</td>\n",
       "      <td>0.0</td>\n",
       "      <td>setosa</td>\n",
       "    </tr>\n",
       "    <tr>\n",
       "      <td>3</td>\n",
       "      <td>4.6</td>\n",
       "      <td>3.1</td>\n",
       "      <td>1.5</td>\n",
       "      <td>0.2</td>\n",
       "      <td>0.0</td>\n",
       "      <td>setosa</td>\n",
       "    </tr>\n",
       "    <tr>\n",
       "      <td>4</td>\n",
       "      <td>5.0</td>\n",
       "      <td>3.6</td>\n",
       "      <td>1.4</td>\n",
       "      <td>0.2</td>\n",
       "      <td>0.0</td>\n",
       "      <td>setosa</td>\n",
       "    </tr>\n",
       "  </tbody>\n",
       "</table>\n",
       "</div>"
      ],
      "text/plain": [
       "   sepal length (cm)  sepal width (cm)  petal length (cm)  petal width (cm)  \\\n",
       "0                5.1               3.5                1.4               0.2   \n",
       "1                4.9               3.0                1.4               0.2   \n",
       "2                4.7               3.2                1.3               0.2   \n",
       "3                4.6               3.1                1.5               0.2   \n",
       "4                5.0               3.6                1.4               0.2   \n",
       "\n",
       "   target species  \n",
       "0     0.0  setosa  \n",
       "1     0.0  setosa  \n",
       "2     0.0  setosa  \n",
       "3     0.0  setosa  \n",
       "4     0.0  setosa  "
      ]
     },
     "execution_count": 4,
     "metadata": {},
     "output_type": "execute_result"
    }
   ],
   "source": [
    "iris = load_iris()\n",
    "iris_df = pd.DataFrame(data=np.c_[iris['data'], iris['target']], columns=iris['feature_names'] + ['target'])\n",
    "\n",
    "def iris_typing(x):\n",
    "    types = {0.0: 'setosa',\n",
    "             1.0: 'versicolour',\n",
    "             2.0: 'virginica'}\n",
    "    return types[x]\n",
    "\n",
    "iris_df['species'] = iris_df.target.apply(iris_typing)\n",
    "iris_df.head()"
   ]
  },
  {
   "cell_type": "markdown",
   "metadata": {},
   "source": [
    "# Graphical exploratory data analysis\n",
    "\n",
    "Look before you leap! A very important proverb, indeed. Prior to diving in headlong into sophisticated statistical inference techniques, you should first explore your data by plotting them and computing simple summary statistics. This process, called exploratory data analysis, is a crucial first step in statistical analysis of data. So it is a fitting subject for the first chapter of Statistical Thinking in Python."
   ]
  },
  {
   "cell_type": "markdown",
   "metadata": {},
   "source": [
    "## Introduction to exploratory data analysis\n",
    "\n",
    "* Exploring the data is a crucial step of the analysis.\n",
    "    * Organizing\n",
    "    * Plotting\n",
    "    * Computing numerical summaries\n",
    "* This idea is known as exploratory data analysis (EDA)\n",
    "* \"Exploratory data analysis can never be the whole story, but nothing else can serve as the foundation stone.\" - [John Tukey](https://en.wikipedia.org/wiki/John_Tukey)"
   ]
  },
  {
   "cell_type": "code",
   "execution_count": 5,
   "metadata": {},
   "outputs": [
    {
     "data": {
      "text/html": [
       "<div>\n",
       "<style scoped>\n",
       "    .dataframe tbody tr th:only-of-type {\n",
       "        vertical-align: middle;\n",
       "    }\n",
       "\n",
       "    .dataframe tbody tr th {\n",
       "        vertical-align: top;\n",
       "    }\n",
       "\n",
       "    .dataframe thead th {\n",
       "        text-align: right;\n",
       "    }\n",
       "</style>\n",
       "<table border=\"1\" class=\"dataframe\">\n",
       "  <thead>\n",
       "    <tr style=\"text-align: right;\">\n",
       "      <th></th>\n",
       "      <th>state</th>\n",
       "      <th>county</th>\n",
       "      <th>total_votes</th>\n",
       "      <th>dem_votes</th>\n",
       "      <th>rep_votes</th>\n",
       "      <th>dem_share</th>\n",
       "    </tr>\n",
       "  </thead>\n",
       "  <tbody>\n",
       "    <tr>\n",
       "      <td>0</td>\n",
       "      <td>PA</td>\n",
       "      <td>Erie County</td>\n",
       "      <td>127691</td>\n",
       "      <td>75775</td>\n",
       "      <td>50351</td>\n",
       "      <td>60.08</td>\n",
       "    </tr>\n",
       "    <tr>\n",
       "      <td>1</td>\n",
       "      <td>PA</td>\n",
       "      <td>Bradford County</td>\n",
       "      <td>25787</td>\n",
       "      <td>10306</td>\n",
       "      <td>15057</td>\n",
       "      <td>40.64</td>\n",
       "    </tr>\n",
       "    <tr>\n",
       "      <td>2</td>\n",
       "      <td>PA</td>\n",
       "      <td>Tioga County</td>\n",
       "      <td>17984</td>\n",
       "      <td>6390</td>\n",
       "      <td>11326</td>\n",
       "      <td>36.07</td>\n",
       "    </tr>\n",
       "    <tr>\n",
       "      <td>3</td>\n",
       "      <td>PA</td>\n",
       "      <td>McKean County</td>\n",
       "      <td>15947</td>\n",
       "      <td>6465</td>\n",
       "      <td>9224</td>\n",
       "      <td>41.21</td>\n",
       "    </tr>\n",
       "    <tr>\n",
       "      <td>4</td>\n",
       "      <td>PA</td>\n",
       "      <td>Potter County</td>\n",
       "      <td>7507</td>\n",
       "      <td>2300</td>\n",
       "      <td>5109</td>\n",
       "      <td>31.04</td>\n",
       "    </tr>\n",
       "  </tbody>\n",
       "</table>\n",
       "</div>"
      ],
      "text/plain": [
       "  state           county  total_votes  dem_votes  rep_votes  dem_share\n",
       "0    PA      Erie County       127691      75775      50351      60.08\n",
       "1    PA  Bradford County        25787      10306      15057      40.64\n",
       "2    PA     Tioga County        17984       6390      11326      36.07\n",
       "3    PA    McKean County        15947       6465       9224      41.21\n",
       "4    PA    Potter County         7507       2300       5109      31.04"
      ]
     },
     "execution_count": 5,
     "metadata": {},
     "output_type": "execute_result"
    }
   ],
   "source": [
    "swing = pd.read_csv(elections_swing_file)\n",
    "swing.head()"
   ]
  },
  {
   "cell_type": "markdown",
   "metadata": {},
   "source": [
    "* The raw data isn't particularly informative\n",
    "* We could start computing parameters and their confidence intervals and do hypothesis test...\n",
    "* ...however, we should graphically explore the data first"
   ]
  },
  {
   "cell_type": "markdown",
   "metadata": {},
   "source": [
    "### Tukey's comments on EDA\n",
    "\n",
    "Even though you probably have not read Tukey's book, I suspect you already have a good idea about his viewpoint from the video introducing you to exploratory data analysis. Which of the following quotes is not directly from Tukey?\n",
    "\n",
    "1. Exploratory data analysis is detective work.\n",
    "1. There is no excuse for failing to plot and look.\n",
    "1. The greatest value of a picture is that it forces us to notice what we never expected to see.\n",
    "1. It is important to understand what you can do before you learn how to measure how well you seem to have done it.\n",
    "1. ~~**Often times EDA is too time consuming, so it is better to jump right in and do your hypothesis tests.**~~"
   ]
  },
  {
   "cell_type": "markdown",
   "metadata": {},
   "source": [
    "### Advantages of graphical EDA\n",
    "\n",
    "Which of the following is not true of graphical EDA?\n",
    "\n",
    "1. It often involves converting tabular data into graphical form.\n",
    "1. If done well, graphical representations can allow for more rapid interpretation of data.\n",
    "1. ~~**A nice looking plot is always the end goal of a statistical analysis.**~~\n",
    "1. There is no excuse for neglecting to do graphical EDA."
   ]
  },
  {
   "cell_type": "markdown",
   "metadata": {},
   "source": [
    "## Plotting a histogram\n",
    "\n",
    "* always label the axes"
   ]
  },
  {
   "cell_type": "code",
   "execution_count": 6,
   "metadata": {},
   "outputs": [
    {
     "data": {
      "image/png": "[encoded data removed]",
      "text/plain": [
       "<Figure size 432x288 with 1 Axes>"
      ]
     },
     "metadata": {
      "needs_background": "light"
     },
     "output_type": "display_data"
    }
   ],
   "source": [
    "bin_edges = [x for x in range(0, 110, 10)]\n",
    "plt.hist(x=swing.dem_share, bins=bin_edges, edgecolor='black')\n",
    "plt.xticks(bin_edges)\n",
    "plt.yticks(bin_edges[:-1])\n",
    "plt.xlabel('Percent of vote for Obama')\n",
    "plt.ylabel('Number of Counties')\n",
    "plt.show()"
   ]
  },
  {
   "cell_type": "markdown",
   "metadata": {},
   "source": [
    "**Seaborn**"
   ]
  },
  {
   "cell_type": "code",
   "execution_count": 7,
   "metadata": {},
   "outputs": [],
   "source": [
    "# Import plotting modules\n",
    "import seaborn as sns\n",
    "\n",
    "# Set default Seaborn style\n",
    "sns.set()"
   ]
  },
  {
   "cell_type": "code",
   "execution_count": 8,
   "metadata": {},
   "outputs": [
    {
     "data": {
      "image/png": "[encoded data removed]",
      "text/plain": [
       "<Figure size 432x288 with 1 Axes>"
      ]
     },
     "metadata": {},
     "output_type": "display_data"
    }
   ],
   "source": [
    "plt.hist(x=swing.dem_share)\n",
    "plt.xlabel('Percent of vote for Obama')\n",
    "plt.ylabel('Number of Counties')\n",
    "plt.show()"
   ]
  },
  {
   "cell_type": "markdown",
   "metadata": {},
   "source": [
    "### Plotting a histogram of iris data\n",
    "\n",
    "For the exercises in this section, you will use a classic data set collected by botanist Edward Anderson and made famous by Ronald Fisher, one of the most prolific statisticians in history. Anderson carefully measured the anatomical properties of samples of three different species of iris, *Iris setosa*, *Iris versicolor*, and *Iris virginica*. The full data set is [available as part of scikit-learn](http://scikit-learn.org/stable/modules/generated/sklearn.datasets.load_iris.html). Here, you will work with his measurements of petal length.\n",
    "\n",
    "Plot a histogram of the petal lengths of his 50 samples of Iris versicolor using matplotlib/seaborn's default settings. Recall that to specify the default seaborn style, you can use `sns.set()`, where `sns` is the alias that `seaborn` is imported as.\n",
    "\n",
    "The subset of the data set containing the Iris versicolor petal lengths in units of centimeters (cm) is stored in the NumPy array `versicolor_petal_length`.\n",
    "\n",
    "In the video, Justin plotted the histograms by using the `pandas` library and indexing the DataFrame to extract the desired column. Here, however, you only need to use the provided NumPy array. Also, Justin assigned his plotting statements (except for `plt.show()`) to the dummy variable `_`. This is to prevent unnecessary output from being displayed. It is not required for your solutions to these exercises, however it is good practice to use it. Alternatively, if you are working in an interactive environment such as a Jupyter notebook, you could use a `;` after your plotting statements to achieve the same effect. Justin prefers using `_`. Therefore, you will see it used in the solution code.\n",
    "\n",
    "**Instructions**\n",
    "\n",
    "* Import `matplotlib.pyplot` and `seaborn` as their usual aliases (`plt` and `sns`).\n",
    "* Use `seaborn` to set the plotting defaults.\n",
    "* Plot a histogram of the Iris versicolor petal lengths using `plt.hist()` and the provided NumPy array `versicolor_petal_length`.\n",
    "* Show the histogram using `plt.show()`."
   ]
  },
  {
   "cell_type": "code",
   "execution_count": 9,
   "metadata": {},
   "outputs": [],
   "source": [
    "versicolor_petal_length = iris_df['petal length (cm)'][iris_df.species == 'versicolour']"
   ]
  },
  {
   "cell_type": "code",
   "execution_count": 10,
   "metadata": {},
   "outputs": [
    {
     "data": {
      "image/png": "[encoded data removed]",
      "text/plain": [
       "<Figure size 432x288 with 1 Axes>"
      ]
     },
     "metadata": {},
     "output_type": "display_data"
    }
   ],
   "source": [
    "# Plot histogram of versicolor petal lengths\n",
    "plt.hist(versicolor_petal_length)\n",
    "plt.show()"
   ]
  },
  {
   "cell_type": "markdown",
   "metadata": {},
   "source": [
    "### Axis labels!\n",
    "\n",
    "In the last exercise, you made a nice histogram of petal lengths of Iris versicolor, but **you didn't label the axes!** That's ok; it's not your fault since we didn't ask you to. Now, add axis labels to the plot using `plt.xlabel()` and `plt.ylabel()`. Don't forget to add units and assign both statements to `_`. The packages `matplotlib.pyplot` and `seaborn` are already imported with their standard aliases. This will be the case in what follows, unless specified otherwise.\n",
    "\n",
    "**Instructions**\n",
    "\n",
    "* Label the axes. Don't forget that you should always include units in your axis labels. Your y-axis label is just `'count'`. Your x-axis label is `'petal length (cm)'`. The units are essential!\n",
    "* Display the plot constructed in the above steps using `plt.show()`."
   ]
  },
  {
   "cell_type": "code",
   "execution_count": 11,
   "metadata": {},
   "outputs": [
    {
     "data": {
      "image/png": "[encoded data removed]",
      "text/plain": [
       "<Figure size 432x288 with 1 Axes>"
      ]
     },
     "metadata": {},
     "output_type": "display_data"
    }
   ],
   "source": [
    "plt.hist(versicolor_petal_length)\n",
    "plt.xlabel('petal length (cm)')\n",
    "plt.ylabel('count')\n",
    "plt.show()"
   ]
  },
  {
   "cell_type": "markdown",
   "metadata": {},
   "source": [
    "### Adjusting the number of bins in a histogram\n",
    "\n",
    "The histogram you just made had ten bins. This is the default of matplotlib. The \"square root rule\" is a commonly-used rule of thumb for choosing number of bins: choose the number of bins to be the square root of the number of samples. Plot the histogram of Iris versicolor petal lengths again, this time using the square root rule for the number of bins. You specify the number of bins using the `bins` keyword argument of `plt.hist()`.\n",
    "\n",
    "The plotting utilities are already imported and the seaborn defaults already set. The variable you defined in the last exercise, `versicolor_petal_length`, is already in your namespace.\n",
    "\n",
    "**Instructions**\n",
    "\n",
    "* Import `numpy` as `np`. This gives access to the square root function, `np.sqrt()`.\n",
    "* Determine how many data points you have using `len()`.\n",
    "* Compute the number of bins using the square root rule.\n",
    "* Convert the number of bins to an integer using the built in `int()` function.\n",
    "* Generate the histogram and make sure to use the `bins` keyword argument.\n",
    "* Hit 'Submit Answer' to plot the figure and see the fruit of your labors!"
   ]
  },
  {
   "cell_type": "code",
   "execution_count": 12,
   "metadata": {},
   "outputs": [
    {
     "data": {
      "image/png": "[encoded data removed]",
      "text/plain": [
       "<Figure size 432x288 with 1 Axes>"
      ]
     },
     "metadata": {},
     "output_type": "display_data"
    }
   ],
   "source": [
    "# Compute number of data points: n_data\n",
    "n_data = len(versicolor_petal_length)\n",
    "\n",
    "# Number of bins is the square root of number of data points: n_bins\n",
    "n_bins = np.sqrt(n_data)\n",
    "\n",
    "# Convert number of bins to integer: n_bins\n",
    "n_bins = int(n_bins)\n",
    "\n",
    "# Plot the histogram\n",
    "_ = plt.hist(versicolor_petal_length, bins=n_bins)\n",
    "\n",
    "# Label axes\n",
    "_ = plt.xlabel('petal length (cm)')\n",
    "_ = plt.ylabel('count')\n",
    "\n",
    "# Show histogram\n",
    "plt.show()"
   ]
  },
  {
   "cell_type": "markdown",
   "metadata": {},
   "source": [
    "## Plotting all of your data: Bee swarm plots\n",
    "\n",
    "* Binning Bias: The same data may be interpreted differently depending on choice of bins\n",
    "* Additionally, all of the data isn't being plotted; the precision of the actual data is lost in the bins\n",
    "* These issues can be resolved with swarm plots\n",
    "    * Point position along the y-axis is the quantitative information\n",
    "    * The data are spread in x to make them visible, but their precise location along the x-axis is unimportant\n",
    "    * No binning bias and all the data are displayed.\n",
    "    * Seaborn & Pandas"
   ]
  },
  {
   "cell_type": "code",
   "execution_count": 13,
   "metadata": {},
   "outputs": [
    {
     "data": {
      "image/png": "[encoded data removed]",
      "text/plain": [
       "<Figure size 432x288 with 1 Axes>"
      ]
     },
     "metadata": {},
     "output_type": "display_data"
    }
   ],
   "source": [
    "sns.swarmplot(x='state', y='dem_share', data=swing)\n",
    "plt.xlabel('state')\n",
    "plt.ylabel('percent of vote for Obama')\n",
    "plt.title('% of Vote per Swing State County')\n",
    "plt.show()"
   ]
  },
  {
   "cell_type": "markdown",
   "metadata": {},
   "source": [
    "### Bee swarm plot\n",
    "\n",
    "Make a bee swarm plot of the iris petal lengths. Your x-axis should contain each of the three species, and the y-axis the petal lengths. A data frame containing the data is in your namespace as `df`.\n",
    "\n",
    "For your reference, the code Justin used to create the bee swarm plot in the video is provided below:\n",
    "\n",
    "```python\n",
    "_ = sns.swarmplot(x='state', y='dem_share', data=df_swing)\n",
    "_ = plt.xlabel('state')\n",
    "_ = plt.ylabel('percent of vote for Obama')\n",
    "plt.show()\n",
    "```\n",
    "\n",
    "In the IPython Shell, you can use `sns.swarmplot`? or `help(sns.swarmplot)` for more details on how to make bee swarm plots using seaborn.\n",
    "\n",
    "**Instructions**\n",
    "\n",
    "* In the IPython Shell, inspect the DataFrame `df` using `df.head()`. This will let you identify which column names you need to pass as the `x` and `y` keyword arguments in your call to `sns.swarmplot()`.\n",
    "* Use `sns.swarmplot()` to make a bee swarm plot from the DataFrame containing the Fisher iris data set, `df`. The x-axis should contain each of the three species, and the y-axis should contain the petal lengths.\n",
    "* Label the axes.\n",
    "* Show your plot."
   ]
  },
  {
   "cell_type": "code",
   "execution_count": 14,
   "metadata": {},
   "outputs": [
    {
     "data": {
      "image/png": "[encoded data removed]",
      "text/plain": [
       "<Figure size 432x288 with 1 Axes>"
      ]
     },
     "metadata": {},
     "output_type": "display_data"
    }
   ],
   "source": [
    "sns.swarmplot(x='species', y='petal length (cm)', data=iris_df)\n",
    "plt.xlabel('species')\n",
    "plt.ylabel('petal length (cm)')\n",
    "plt.show()"
   ]
  },
  {
   "cell_type": "markdown",
   "metadata": {},
   "source": [
    "### Interpreting a bee swarm plot\n",
    "\n",
    "Which of the following conclusions could you draw from the bee swarm plot of iris petal lengths you generated in the previous exercise? For your convenience, the bee swarm plot is regenerated and shown to the right.\n",
    "\n",
    "**Instructions**\n",
    "\n",
    "Possible Answers\n",
    "1. All I. versicolor petals are shorter than I. virginica petals.\n",
    "1. I. setosa petals have a broader range of lengths than the other two species.\n",
    "1. __**I. virginica petals tend to be the longest, and I. setosa petals tend to be the shortest of the three species.**__\n",
    "1. I. versicolor is a hybrid of I. virginica and I. setosa."
   ]
  },
  {
   "cell_type": "markdown",
   "metadata": {},
   "source": [
    "## Plotting all of your data: Empirical cumulative distribution functions\n",
    "\n",
    "* [Empirical Distribution Function](https://en.wikipedia.org/wiki/Empirical_distribution_function)\n",
    "* [Empirical Distribution Function / Empirical CDF](https://www.statisticshowto.datasciencecentral.com/empirical-distribution-function/)\n",
    "    * An **empirical cumulative distribution function** (also called the empirical distribution function, **ECDF**, or just **EDF**) and a [cumulative distribution function](https://www.statisticshowto.datasciencecentral.com/cumulative-distribution-function/) are basically the same thing; they are both probability models for data. While ***a CDF is a hypothetical model of a distribution***, **the ECDF models empirical (i.e. observed) data**. To put this another way, __**the ECDF is the [probability distribution](https://www.statisticshowto.datasciencecentral.com/probability-distribution/) you would get if you sampled from your [sample](https://www.statisticshowto.datasciencecentral.com/sample/), instead of the [population](https://www.statisticshowto.datasciencecentral.com/what-is-a-population/)**__. Lets say you have a set of experimental (observed) data $x_{1},x_{2},\\,\\ldots\\,x_{n}$. The EDF will give you the fraction of sample observations less than or equal to a particular value of $x$.\n",
    "    * More formally, if you have a set of [order statistics](https://www.statisticshowto.datasciencecentral.com/order-statistics/) ($y_{1}<y_{2}<\\ldots<y_{n}$) from an observed random sample, then the ***empirical distribution function*** is defined as a sum of [iid random variables](https://www.statisticshowto.datasciencecentral.com/random-variable/):\n",
    "    * $\\hat{F}_{n}(t)=\\frac{\\text{number of elements in the sample \\(\\leq t\\)}}{n}=\\frac{1}{n}\\sum_{i=1}^n 1_{X_{i}\\leq t}$\n",
    "    * Where $1_{A}$ = the [indicator](https://en.wikipedia.org/wiki/Indicator_function) of [event](https://en.wikipedia.org/wiki/Event_(probability_theory)) $A$.\n",
    "* x-value of an ECDF is the quantity being measured\n",
    "* y-value is the fraction of data points that have a value smaller than the corresponding x-value\n",
    "* Shows all the data and gives a complete picture of how the data are distributed"
   ]
  },
  {
   "cell_type": "code",
   "execution_count": 15,
   "metadata": {},
   "outputs": [
    {
     "data": {
      "image/png": "[encoded data removed]",
      "text/plain": [
       "<Figure size 432x288 with 1 Axes>"
      ]
     },
     "metadata": {},
     "output_type": "display_data"
    }
   ],
   "source": [
    "x = np.sort(swing['dem_share'])\n",
    "y = np.arange(1, len(x)+1) / len(x)\n",
    "\n",
    "plt.plot(x, y, marker='.', linestyle='none')\n",
    "plt.xlabel('percent of vote for Obama')\n",
    "plt.ylabel('ECDF')\n",
    "plt.margins(0.02)  # keep data off plot edges\n",
    "\n",
    "plt.show()"
   ]
  },
  {
   "cell_type": "markdown",
   "metadata": {},
   "source": [
    "#### add annotations"
   ]
  },
  {
   "cell_type": "code",
   "execution_count": 16,
   "metadata": {},
   "outputs": [
    {
     "data": {
      "image/png": "[encoded data removed]",
      "text/plain": [
       "<Figure size 720x360 with 1 Axes>"
      ]
     },
     "metadata": {},
     "output_type": "display_data"
    }
   ],
   "source": [
    "fig, ax = plt.subplots(figsize=(10, 5))\n",
    "ax.margins(0.05)           # Default margin is 0.05, value 0 means fit\n",
    "\n",
    "x = np.sort(swing['dem_share'])\n",
    "y = np.arange(1, len(x)+1) / len(x)\n",
    "\n",
    "ax.plot(x, y, marker='.', linestyle='none')\n",
    "plt.xlabel('percent of vote for Obama')\n",
    "plt.ylabel('ECDF')\n",
    "\n",
    "ax.annotate('20% of counties had <= 36% vote for Obama', xy=(36, .2),\n",
    "            xytext=(40, 0.1), fontsize=10, arrowprops=dict(arrowstyle=\"->\", color='b'))\n",
    "\n",
    "ax.annotate('75% of counties had < 0.5 vote for Obama', xy=(50, .75),\n",
    "            xytext=(55, 0.6), fontsize=10, arrowprops=dict(arrowstyle=\"->\", color='b'))\n",
    "\n",
    "plt.show()"
   ]
  },
  {
   "cell_type": "markdown",
   "metadata": {},
   "source": [
    "#### plot multiple ECDFs"
   ]
  },
  {
   "cell_type": "code",
   "execution_count": 17,
   "metadata": {},
   "outputs": [
    {
     "data": {
      "image/png": "[encoded data removed]",
      "text/plain": [
       "<Figure size 720x360 with 1 Axes>"
      ]
     },
     "metadata": {},
     "output_type": "display_data"
    }
   ],
   "source": [
    "fig, ax = plt.subplots(figsize=(10, 5))\n",
    "ax.margins(0.05)           # Default margin is 0.05, value 0 means fit\n",
    "\n",
    "for state in swing.state.unique():\n",
    "    x = np.sort(swing['dem_share'][swing.state == state])\n",
    "    y = np.arange(1, len(x)+1) / len(x)\n",
    "    ax.plot(x, y, marker='.', linestyle='none', label=state)\n",
    "\n",
    "plt.xlabel('percent of vote for Obama')\n",
    "plt.ylabel('ECDF')\n",
    "plt.legend()\n",
    "\n",
    "plt.show()"
   ]
  },
  {
   "cell_type": "markdown",
   "metadata": {},
   "source": [
    "### Computing the ECDF\n",
    "\n",
    "In this exercise, you will write a function that takes as input a 1D array of data and then returns the `x` and `y` values of the ECDF. You will use this function over and over again throughout this course and its sequel. ECDFs are among the most important plots in statistical analysis. You can write your own function, `foo(x,y)` according to the following skeleton:\n",
    "\n",
    "```python\n",
    "def foo(a,b):\n",
    "    \"\"\"State what function does here\"\"\"\n",
    "    # Computation performed here\n",
    "    return x, y\n",
    "```\n",
    "    \n",
    "The function `foo()` above takes two arguments `a` and `b` and returns two values `x` and `y`. The function header `def foo(a,b):` contains the function signature `foo(a,b)`, which consists of the function name, along with its parameters. For more on writing your own functions, see [DataCamp's course Python Data Science Toolbox (Part 1)](https://www.datacamp.com/courses/python-data-science-toolbox-part-1)!\n",
    "\n",
    "**Instructions**\n",
    "\n",
    "* Define a function with the signature `ecdf(data)`. Within the function definition,\n",
    "    * Compute the number of data points, `n`, using the `len()` function.\n",
    "    * The **x**-values are the sorted data. Use the `np.sort()` function to perform the sorting.\n",
    "    * The **y** data of the ECDF go from `1/n` to `1` in equally spaced increments. You can construct this using `np.arange()`. Remember, however, that the end value in `np.arange()` is not inclusive.  Therefore, `np.arange()` will need to go from `1` to `n+1`. Be sure to divide this by `n`.\n",
    "    * The function returns the values `x` and `y`."
   ]
  },
  {
   "cell_type": "markdown",
   "metadata": {},
   "source": [
    "#### def ecdf()"
   ]
  },
  {
   "cell_type": "code",
   "execution_count": 18,
   "metadata": {},
   "outputs": [],
   "source": [
    "def ecdf(data):\n",
    "    \"\"\"Compute ECDF for a one-dimensional array of measurements.\"\"\"\n",
    "    # Number of data points: n\n",
    "    n = len(data)\n",
    "\n",
    "    # x-data for the ECDF: x\n",
    "    x = np.sort(data)\n",
    "\n",
    "    # y-data for the ECDF: y\n",
    "    y = np.arange(1, n+1) / n\n",
    "\n",
    "    return x, y"
   ]
  },
  {
   "cell_type": "markdown",
   "metadata": {},
   "source": [
    "### Plotting the ECDF\n",
    "\n",
    "You will now use your `ecdf()` function to compute the ECDF for the petal lengths of Anderson's *Iris versicolor* flowers. You will then plot the ECDF. Recall that your `ecdf()` function returns two arrays so you will need to unpack them. An example of such unpacking is `x, y = foo(data)`, for some function `foo()`.\n",
    "\n",
    "**Instructions**\n",
    "\n",
    "* Use `ecdf()` to compute the ECDF of `versicolor_petal_length`. Unpack the output into `x_vers` and `y_vers`.\n",
    "* Plot the ECDF as dots. Remember to include `marker = '.'` and `linestyle = 'none'` in addition to `x_vers` and `y_vers` as arguments inside `plt.plot()`.\n",
    "* Label the axes. You can label the y-axis `'ECDF'`.\n",
    "* Show your plot."
   ]
  },
  {
   "cell_type": "code",
   "execution_count": 19,
   "metadata": {},
   "outputs": [
    {
     "data": {
      "image/png": "[encoded data removed]",
      "text/plain": [
       "<Figure size 432x288 with 1 Axes>"
      ]
     },
     "metadata": {},
     "output_type": "display_data"
    }
   ],
   "source": [
    "# Compute ECDF for versicolor data: x_vers, y_vers\n",
    "x, y = ecdf(versicolor_petal_length)\n",
    "\n",
    "# Generate plot\n",
    "plt.plot(x, y, marker='.', linestyle='none')\n",
    "\n",
    "# Label the axes\n",
    "plt.xlabel('Versicolor Petal Length (cm)')\n",
    "plt.ylabel('ECDF')\n",
    "\n",
    "# Display the plot\n",
    "plt.margins(0.02)  # keep data off plot edges\n",
    "plt.show()"
   ]
  },
  {
   "cell_type": "markdown",
   "metadata": {},
   "source": [
    "### Comparison of ECDFs\n",
    "\n",
    "ECDFs also allow you to compare two or more distributions (though plots get cluttered if you have too many). Here, you will plot ECDFs for the petal lengths of all three iris species. You already wrote a function to generate ECDFs so you can put it to good use!\n",
    "\n",
    "To overlay all three ECDFs on the same plot, you can use `plt.plot()` three times, once for each ECDF. Remember to include `marker='.'` and `linestyle='none'` as arguments inside `plt.plot()`.\n",
    "\n",
    "**Instructions**\n",
    "\n",
    "* Compute ECDFs for each of the three species using your `ecdf()` function. The variables `setosa_petal_length`, `versicolor_petal_length`, and `virginica_petal_length` are all in your namespace. Unpack the ECDFs into `x_set`, `y_set`, `x_vers`, `y_vers` and `x_virg`, `y_virg`, respectively.\n",
    "* Plot all three ECDFs on the same plot as dots. To do this, you will need three `plt.plot()` commands. Assign the result of each to `_`.\n",
    "* A legend and axis labels have been added for you, so hit 'Submit Answer' to see all the ECDFs!"
   ]
  },
  {
   "cell_type": "code",
   "execution_count": 20,
   "metadata": {},
   "outputs": [
    {
     "data": {
      "image/png": "[encoded data removed]",
      "text/plain": [
       "<Figure size 432x288 with 1 Axes>"
      ]
     },
     "metadata": {},
     "output_type": "display_data"
    }
   ],
   "source": [
    "virginica_petal_length = iris_df['petal length (cm)'][iris_df.species == 'virginica']\n",
    "setosa_petal_length = iris_df['petal length (cm)'][iris_df.species == 'setosa']\n",
    "\n",
    "# Compute ECDFs\n",
    "x_set, y_set = ecdf(setosa_petal_length)\n",
    "x_vers, y_vers = ecdf(versicolor_petal_length)\n",
    "x_virg, y_virg = ecdf(virginica_petal_length)\n",
    "\n",
    "# Plot all ECDFs on the same plot\n",
    "plt.plot(x_set, y_set, marker='.', linestyle='none')\n",
    "plt.plot(x_vers, y_vers, marker='.', linestyle='none')\n",
    "plt.plot(x_virg, y_virg, marker='.', linestyle='none')\n",
    "\n",
    "# Annotate the plot\n",
    "plt.legend(('setosa', 'versicolor', 'virginica'), loc='lower right')\n",
    "_ = plt.xlabel('petal length (cm)')\n",
    "_ = plt.ylabel('ECDF')\n",
    "\n",
    "# Display the plot\n",
    "plt.show()"
   ]
  },
  {
   "cell_type": "markdown",
   "metadata": {},
   "source": [
    "## Onward toward the whole story\n",
    "\n",
    "* Start with graphical eda!\n",
    "\n",
    "**Coming up...**\n",
    "\n",
    "* Thinking probabilistically\n",
    "* Discrete and continuous distributions\n",
    "* The power of hacker statistics using np.random()"
   ]
  },
  {
   "cell_type": "markdown",
   "metadata": {},
   "source": [
    "# Quantitative exploratory data analysis\n",
    "\n",
    "In the last chapter, you learned how to graphically explore data. In this chapter, you will compute useful summary statistics, which serve to concisely describe salient features of a data set with a few numbers."
   ]
  },
  {
   "cell_type": "markdown",
   "metadata": {},
   "source": [
    "## Introduction to summary statistics: The sample mean and median\n",
    "\n",
    "* mean - average\n",
    "    * heavily influenced by outliers\n",
    "    * `np.mean()`\n",
    "* median - middle value of the sorted dataset\n",
    "    * immune to outlier influence\n",
    "    * `np.median()`"
   ]
  },
  {
   "cell_type": "markdown",
   "metadata": {},
   "source": [
    "### Means and medians\n",
    "\n",
    "Which one of the following statements is true about means and medians?\n",
    "\n",
    "**Possible Answers**\n",
    "\n",
    "* ~~An outlier can significantly affect the value of both the mean and the median.~~\n",
    "* **An outlier can significantly affect the value of the mean, but not the median.**\n",
    "* ~~Means and medians are in general both robust to single outliers.~~\n",
    "* ~~The mean and median are equal if there is an odd number of data points.~~"
   ]
  },
  {
   "cell_type": "markdown",
   "metadata": {},
   "source": [
    "### Computing means\n",
    "\n",
    "The mean of all measurements gives an indication of the typical magnitude of a measurement. It is computed using `np.mean()`.\n",
    "\n",
    "**Instructions**\n",
    "\n",
    "* Compute the mean petal length of Iris versicolor from Anderson's classic data set. The variable `versicolor_petal_length` is provided in your namespace. Assign the mean to `mean_length_vers`."
   ]
  },
  {
   "cell_type": "code",
   "execution_count": 21,
   "metadata": {},
   "outputs": [
    {
     "name": "stdout",
     "output_type": "stream",
     "text": [
      "I. versicolor: 4.26 cm\n"
     ]
    }
   ],
   "source": [
    "# Compute the mean: mean_length_vers\n",
    "mean_length_vers = np.mean(versicolor_petal_length)\n",
    "\n",
    "# Print the result with some nice formatting\n",
    "print('I. versicolor:', mean_length_vers, 'cm')"
   ]
  },
  {
   "cell_type": "markdown",
   "metadata": {},
   "source": [
    "#### with pandas.DataFrame"
   ]
  },
  {
   "cell_type": "code",
   "execution_count": 22,
   "metadata": {},
   "outputs": [
    {
     "data": {
      "text/html": [
       "<div>\n",
       "<style scoped>\n",
       "    .dataframe tbody tr th:only-of-type {\n",
       "        vertical-align: middle;\n",
       "    }\n",
       "\n",
       "    .dataframe tbody tr th {\n",
       "        vertical-align: top;\n",
       "    }\n",
       "\n",
       "    .dataframe thead th {\n",
       "        text-align: right;\n",
       "    }\n",
       "</style>\n",
       "<table border=\"1\" class=\"dataframe\">\n",
       "  <thead>\n",
       "    <tr style=\"text-align: right;\">\n",
       "      <th></th>\n",
       "      <th>sepal length (cm)</th>\n",
       "      <th>sepal width (cm)</th>\n",
       "      <th>petal length (cm)</th>\n",
       "      <th>petal width (cm)</th>\n",
       "      <th>target</th>\n",
       "    </tr>\n",
       "    <tr>\n",
       "      <th>species</th>\n",
       "      <th></th>\n",
       "      <th></th>\n",
       "      <th></th>\n",
       "      <th></th>\n",
       "      <th></th>\n",
       "    </tr>\n",
       "  </thead>\n",
       "  <tbody>\n",
       "    <tr>\n",
       "      <td>setosa</td>\n",
       "      <td>5.006</td>\n",
       "      <td>3.428</td>\n",
       "      <td>1.462</td>\n",
       "      <td>0.246</td>\n",
       "      <td>0.0</td>\n",
       "    </tr>\n",
       "    <tr>\n",
       "      <td>versicolour</td>\n",
       "      <td>5.936</td>\n",
       "      <td>2.770</td>\n",
       "      <td>4.260</td>\n",
       "      <td>1.326</td>\n",
       "      <td>1.0</td>\n",
       "    </tr>\n",
       "    <tr>\n",
       "      <td>virginica</td>\n",
       "      <td>6.588</td>\n",
       "      <td>2.974</td>\n",
       "      <td>5.552</td>\n",
       "      <td>2.026</td>\n",
       "      <td>2.0</td>\n",
       "    </tr>\n",
       "  </tbody>\n",
       "</table>\n",
       "</div>"
      ],
      "text/plain": [
       "             sepal length (cm)  sepal width (cm)  petal length (cm)  \\\n",
       "species                                                               \n",
       "setosa                   5.006             3.428              1.462   \n",
       "versicolour              5.936             2.770              4.260   \n",
       "virginica                6.588             2.974              5.552   \n",
       "\n",
       "             petal width (cm)  target  \n",
       "species                                \n",
       "setosa                  0.246     0.0  \n",
       "versicolour             1.326     1.0  \n",
       "virginica               2.026     2.0  "
      ]
     },
     "execution_count": 22,
     "metadata": {},
     "output_type": "execute_result"
    }
   ],
   "source": [
    "iris_df.groupby(['species']).mean()"
   ]
  },
  {
   "cell_type": "markdown",
   "metadata": {},
   "source": [
    "## Percentiles, outliers and box plots\n",
    "\n",
    "* The median is a special name for the 50th percentile\n",
    "    * 50% of the data are less than the median\n",
    "* The 25th percentile is the value of the data point that is greater than 25% of the sorted data\n",
    "* percentiles are useful summary statistics and can be computed using `np.percentile()`\n",
    "\n",
    "**Computing Percentiles**\n",
    "\n",
    "```python\n",
    "np.percentile(df_swing['dem_share'], [25, 50, 75])\n",
    "```\n",
    "\n",
    "![](https://raw.githubusercontent.com/trenton3983/DataCamp/master/Images/statistical_thinking_1/box_plot.JPG)\n",
    "\n",
    "* Box plots are a graphical methode for displying summary statistics\n",
    "    * median is the middle line: 50th percentile\n",
    "    * bottom and top line of the box represent the 25th & 75th percentile, repectively\n",
    "    * the space between the 25th and 75th percentile is the interquartile range (IQR)\n",
    "    * Whiskers extent a distance of 1.5 time the IQR, or the extent of the data, whichever is less extreme\n",
    "    * Any points outside the whiskers are plotted as individual points, which we demarcate as outliers\n",
    "        * There is no single definition for an outlier, however, being more than 2 IQRs away from the median is a common criterion.\n",
    "        * An outlier is not necessarily erroneous\n",
    "    * Box plots are a great alternative to bee swarm plots, becasue bee swarm plots become too cluttered with large data sets"
   ]
  },
  {
   "cell_type": "code",
   "execution_count": 23,
   "metadata": {},
   "outputs": [
    {
     "data": {
      "text/html": [
       "<div>\n",
       "<style scoped>\n",
       "    .dataframe tbody tr th:only-of-type {\n",
       "        vertical-align: middle;\n",
       "    }\n",
       "\n",
       "    .dataframe tbody tr th {\n",
       "        vertical-align: top;\n",
       "    }\n",
       "\n",
       "    .dataframe thead th {\n",
       "        text-align: right;\n",
       "    }\n",
       "</style>\n",
       "<table border=\"1\" class=\"dataframe\">\n",
       "  <thead>\n",
       "    <tr style=\"text-align: right;\">\n",
       "      <th></th>\n",
       "      <th>state</th>\n",
       "      <th>county</th>\n",
       "      <th>total_votes</th>\n",
       "      <th>dem_votes</th>\n",
       "      <th>rep_votes</th>\n",
       "      <th>other_votes</th>\n",
       "      <th>dem_share</th>\n",
       "      <th>east_west</th>\n",
       "    </tr>\n",
       "  </thead>\n",
       "  <tbody>\n",
       "    <tr>\n",
       "      <td>0</td>\n",
       "      <td>AK</td>\n",
       "      <td>State House District 8, Denali-University</td>\n",
       "      <td>10320</td>\n",
       "      <td>4995</td>\n",
       "      <td>4983</td>\n",
       "      <td>342</td>\n",
       "      <td>50.06</td>\n",
       "      <td>west</td>\n",
       "    </tr>\n",
       "    <tr>\n",
       "      <td>1</td>\n",
       "      <td>AK</td>\n",
       "      <td>State House District 37, Bristol Bay-Aleuti</td>\n",
       "      <td>4665</td>\n",
       "      <td>1868</td>\n",
       "      <td>2661</td>\n",
       "      <td>136</td>\n",
       "      <td>41.24</td>\n",
       "      <td>west</td>\n",
       "    </tr>\n",
       "    <tr>\n",
       "      <td>2</td>\n",
       "      <td>AK</td>\n",
       "      <td>State House District 12, Richardson-Glenn H</td>\n",
       "      <td>7589</td>\n",
       "      <td>1914</td>\n",
       "      <td>5467</td>\n",
       "      <td>208</td>\n",
       "      <td>25.93</td>\n",
       "      <td>west</td>\n",
       "    </tr>\n",
       "    <tr>\n",
       "      <td>3</td>\n",
       "      <td>AK</td>\n",
       "      <td>State House District 13, Greater Palmer</td>\n",
       "      <td>11526</td>\n",
       "      <td>2800</td>\n",
       "      <td>8432</td>\n",
       "      <td>294</td>\n",
       "      <td>24.93</td>\n",
       "      <td>west</td>\n",
       "    </tr>\n",
       "    <tr>\n",
       "      <td>4</td>\n",
       "      <td>AK</td>\n",
       "      <td>State House District 14, Greater Wasilla</td>\n",
       "      <td>10456</td>\n",
       "      <td>2132</td>\n",
       "      <td>8108</td>\n",
       "      <td>216</td>\n",
       "      <td>20.82</td>\n",
       "      <td>west</td>\n",
       "    </tr>\n",
       "  </tbody>\n",
       "</table>\n",
       "</div>"
      ],
      "text/plain": [
       "  state                                       county  total_votes  dem_votes  \\\n",
       "0    AK    State House District 8, Denali-University        10320       4995   \n",
       "1    AK  State House District 37, Bristol Bay-Aleuti         4665       1868   \n",
       "2    AK  State House District 12, Richardson-Glenn H         7589       1914   \n",
       "3    AK      State House District 13, Greater Palmer        11526       2800   \n",
       "4    AK     State House District 14, Greater Wasilla        10456       2132   \n",
       "\n",
       "   rep_votes  other_votes  dem_share east_west  \n",
       "0       4983          342      50.06      west  \n",
       "1       2661          136      41.24      west  \n",
       "2       5467          208      25.93      west  \n",
       "3       8432          294      24.93      west  \n",
       "4       8108          216      20.82      west  "
      ]
     },
     "execution_count": 23,
     "metadata": {},
     "output_type": "execute_result"
    }
   ],
   "source": [
    "all_states = pd.read_csv(elections_all_file)\n",
    "all_states.head()"
   ]
  },
  {
   "cell_type": "code",
   "execution_count": 24,
   "metadata": {},
   "outputs": [
    {
     "data": {
      "image/png": "[encoded data removed]",
      "text/plain": [
       "<Figure size 432x288 with 1 Axes>"
      ]
     },
     "metadata": {},
     "output_type": "display_data"
    }
   ],
   "source": [
    "sns.boxplot(x='east_west', y='dem_share', data=all_states)\n",
    "plt.xlabel('region')\n",
    "plt.ylabel('percent of vote for Obama')\n",
    "plt.show()"
   ]
  },
  {
   "cell_type": "markdown",
   "metadata": {},
   "source": [
    "### Computing percentiles\n",
    "\n",
    "In this exercise, you will compute the percentiles of petal length of *Iris versicolor*.\n",
    "\n",
    "**Instructions**\n",
    "\n",
    "* Create `percentiles`, a NumPy array of percentiles you want to compute. These are the 2.5th, 25th, 50th, 75th, and 97.5th. You can do so by creating a list containing these ints/floats and convert the list to a NumPy array using `np.array()`. For example, `np.array([30, 50])` would create an array consisting of the 30th and 50th percentiles.\n",
    "* Use `np.percentile()` to compute the percentiles of the petal lengths from the Iris versicolor samples. The variable `versicolor_petal_length` is in your namespace."
   ]
  },
  {
   "cell_type": "code",
   "execution_count": 25,
   "metadata": {},
   "outputs": [
    {
     "data": {
      "text/plain": [
       "array([3.3   , 4.    , 4.35  , 4.6   , 4.9775])"
      ]
     },
     "execution_count": 25,
     "metadata": {},
     "output_type": "execute_result"
    }
   ],
   "source": [
    "# Specify array of percentiles: percentiles\n",
    "percentiles = np.array([2.5, 25, 50, 75, 97.5])\n",
    "\n",
    "# Compute percentiles: ptiles_vers\n",
    "ptiles_vers = np.percentile(versicolor_petal_length, percentiles)\n",
    "\n",
    "# Print the result\n",
    "ptiles_vers"
   ]
  },
  {
   "cell_type": "markdown",
   "metadata": {},
   "source": [
    "### Comparing percentiles to ECDF\n",
    "\n",
    "To see how the percentiles relate to the ECDF, you will plot the percentiles of Iris versicolor petal lengths you calculated in the last exercise on the ECDF plot you generated in chapter 1. The percentile variables from the previous exercise are available in the workspace as `ptiles_vers` and `percentiles`.\n",
    "\n",
    "Note that to ensure the Y-axis of the ECDF plot remains between 0 and 1, you will need to rescale the `percentiles` array accordingly - in this case, dividing it by 100.\n",
    "\n",
    "**Instructions**\n",
    "\n",
    "* Plot the percentiles as red diamonds on the ECDF. Pass the x and y co-ordinates - `ptiles_vers` and `percentiles/100` - as positional arguments and specify the `marker='D'`, `color='red'` and `linestyle='none'` keyword arguments. The argument for the y-axis - `percentiles/100` has been specified for you."
   ]
  },
  {
   "cell_type": "code",
   "execution_count": 26,
   "metadata": {},
   "outputs": [
    {
     "data": {
      "image/png": "[encoded data removed]",
      "text/plain": [
       "<Figure size 432x288 with 1 Axes>"
      ]
     },
     "metadata": {},
     "output_type": "display_data"
    }
   ],
   "source": [
    "# Plot the ECDF\n",
    "_ = plt.plot(x_vers, y_vers, '.')\n",
    "_ = plt.xlabel('petal length (cm)')\n",
    "_ = plt.ylabel('ECDF')\n",
    "\n",
    "# Overlay percentiles as red diamonds.\n",
    "_ = plt.plot(ptiles_vers, percentiles/100, marker='D', color='red', linestyle='none')\n",
    "plt.show()"
   ]
  },
  {
   "cell_type": "markdown",
   "metadata": {},
   "source": [
    "### Box-and-whisker plot\n",
    "\n",
    "Making a box plot for the petal lengths is unnecessary because the iris data set is not too large and the bee swarm plot works fine. However, it is always good to get some practice. Make a box plot of the iris petal lengths. You have a pandas DataFrame, `df`, which contains the petal length data, in your namespace. Inspect the data frame `df` in the IPython shell using `df.head()` to make sure you know what the pertinent columns are.\n",
    "\n",
    "For your reference, the code used to produce the box plot in the video is provided below:\n",
    "\n",
    "```python\n",
    "_ = sns.boxplot(x='east_west', y='dem_share', data=df_all_states)\n",
    "\n",
    "_ = plt.xlabel('region')\n",
    "\n",
    "_ = plt.ylabel('percent of vote for Obama')\n",
    "```\n",
    "\n",
    "In the IPython Shell, you can use `sns.boxplot?` or `help(sns.boxplot)` for more details on how to make box plots using seaborn.\n",
    "\n",
    "**Instructions**\n",
    "\n",
    "* The set-up is exactly the same as for the bee swarm plot; you just call `sns.boxplot()` with the same keyword arguments as you would `sns.swarmplot()`. The x-axis is `'species'` and y-axis is `'petal length (cm)'`.\n",
    "* Don't forget to label your axes!"
   ]
  },
  {
   "cell_type": "code",
   "execution_count": 27,
   "metadata": {},
   "outputs": [
    {
     "data": {
      "image/png": "[encoded data removed]",
      "text/plain": [
       "<Figure size 720x504 with 1 Axes>"
      ]
     },
     "metadata": {},
     "output_type": "display_data"
    }
   ],
   "source": [
    "fig, ax = plt.subplots(figsize=(10, 7))\n",
    "# Create box plot with Seaborn's default settings\n",
    "_ = sns.boxplot(x='species', y='petal length (cm)', data=iris_df)\n",
    "\n",
    "# Label the axes\n",
    "_ = plt.ylabel('petal length (cm)')\n",
    "_ = plt.xlabel('species')\n",
    "\n",
    "# Show the plot\n",
    "plt.show()"
   ]
  },
  {
   "cell_type": "markdown",
   "metadata": {},
   "source": [
    "## Variance and standard deviation\n",
    "\n",
    "* measures of spread\n",
    "* variance:\n",
    "    * The mean squared distance of the data from the mean\n",
    "    * $$variance = \\frac{1}{n}\\sum_{i=1}^{n}(x_{i} - \\overline{x})^2$$\n",
    "    * because of the squared quantity, variance doesn't have the same units as the measurement\n",
    "* standard deviation:\n",
    "    * $$\\sqrt{variance}$$"
   ]
  },
  {
   "cell_type": "markdown",
   "metadata": {},
   "source": [
    "#### Variance"
   ]
  },
  {
   "cell_type": "code",
   "execution_count": 28,
   "metadata": {},
   "outputs": [],
   "source": [
    "dem_share_fl = all_states.dem_share[all_states.state == 'FL']"
   ]
  },
  {
   "cell_type": "code",
   "execution_count": 29,
   "metadata": {},
   "outputs": [
    {
     "data": {
      "text/plain": [
       "147.44278618846067"
      ]
     },
     "execution_count": 29,
     "metadata": {},
     "output_type": "execute_result"
    }
   ],
   "source": [
    "np.var(dem_share_fl)"
   ]
  },
  {
   "cell_type": "code",
   "execution_count": 30,
   "metadata": {},
   "outputs": [
    {
     "data": {
      "text/plain": [
       "147.44278618846067"
      ]
     },
     "execution_count": 30,
     "metadata": {},
     "output_type": "execute_result"
    }
   ],
   "source": [
    "all_states_var = all_states[['state', 'total_votes', 'dem_votes', 'rep_votes', 'other_votes', 'dem_share']].groupby(['state']).var(ddof=0)\n",
    "all_states_var.dem_share.loc['FL']"
   ]
  },
  {
   "cell_type": "code",
   "execution_count": 31,
   "metadata": {},
   "outputs": [
    {
     "data": {
      "text/html": [
       "<div>\n",
       "<style scoped>\n",
       "    .dataframe tbody tr th:only-of-type {\n",
       "        vertical-align: middle;\n",
       "    }\n",
       "\n",
       "    .dataframe tbody tr th {\n",
       "        vertical-align: top;\n",
       "    }\n",
       "\n",
       "    .dataframe thead th {\n",
       "        text-align: right;\n",
       "    }\n",
       "</style>\n",
       "<table border=\"1\" class=\"dataframe\">\n",
       "  <thead>\n",
       "    <tr style=\"text-align: right;\">\n",
       "      <th></th>\n",
       "      <th>total_votes</th>\n",
       "      <th>dem_votes</th>\n",
       "      <th>rep_votes</th>\n",
       "      <th>other_votes</th>\n",
       "      <th>dem_share</th>\n",
       "    </tr>\n",
       "    <tr>\n",
       "      <th>state</th>\n",
       "      <th></th>\n",
       "      <th></th>\n",
       "      <th></th>\n",
       "      <th></th>\n",
       "      <th></th>\n",
       "    </tr>\n",
       "  </thead>\n",
       "  <tbody>\n",
       "    <tr>\n",
       "      <td>AK</td>\n",
       "      <td>3.918599e+06</td>\n",
       "      <td>9.182529e+05</td>\n",
       "      <td>3.200012e+06</td>\n",
       "      <td>3.256997e+03</td>\n",
       "      <td>125.668270</td>\n",
       "    </tr>\n",
       "    <tr>\n",
       "      <td>AL</td>\n",
       "      <td>2.292250e+09</td>\n",
       "      <td>5.607371e+08</td>\n",
       "      <td>6.252062e+08</td>\n",
       "      <td>1.733390e+05</td>\n",
       "      <td>307.070511</td>\n",
       "    </tr>\n",
       "    <tr>\n",
       "      <td>AR</td>\n",
       "      <td>4.876461e+08</td>\n",
       "      <td>1.199459e+08</td>\n",
       "      <td>1.314874e+08</td>\n",
       "      <td>1.354781e+05</td>\n",
       "      <td>92.110499</td>\n",
       "    </tr>\n",
       "    <tr>\n",
       "      <td>AZ</td>\n",
       "      <td>1.135138e+11</td>\n",
       "      <td>2.266020e+10</td>\n",
       "      <td>3.343506e+10</td>\n",
       "      <td>1.616763e+07</td>\n",
       "      <td>114.874473</td>\n",
       "    </tr>\n",
       "    <tr>\n",
       "      <td>CA</td>\n",
       "      <td>2.349814e+11</td>\n",
       "      <td>1.040120e+11</td>\n",
       "      <td>2.620011e+10</td>\n",
       "      <td>9.319614e+07</td>\n",
       "      <td>177.821720</td>\n",
       "    </tr>\n",
       "  </tbody>\n",
       "</table>\n",
       "</div>"
      ],
      "text/plain": [
       "        total_votes     dem_votes     rep_votes   other_votes   dem_share\n",
       "state                                                                    \n",
       "AK     3.918599e+06  9.182529e+05  3.200012e+06  3.256997e+03  125.668270\n",
       "AL     2.292250e+09  5.607371e+08  6.252062e+08  1.733390e+05  307.070511\n",
       "AR     4.876461e+08  1.199459e+08  1.314874e+08  1.354781e+05   92.110499\n",
       "AZ     1.135138e+11  2.266020e+10  3.343506e+10  1.616763e+07  114.874473\n",
       "CA     2.349814e+11  1.040120e+11  2.620011e+10  9.319614e+07  177.821720"
      ]
     },
     "execution_count": 31,
     "metadata": {},
     "output_type": "execute_result"
    }
   ],
   "source": [
    "all_states_var.head()"
   ]
  },
  {
   "cell_type": "markdown",
   "metadata": {},
   "source": [
    "#### Standard Deviation"
   ]
  },
  {
   "cell_type": "code",
   "execution_count": 32,
   "metadata": {},
   "outputs": [
    {
     "data": {
      "text/plain": [
       "12.142602117687158"
      ]
     },
     "execution_count": 32,
     "metadata": {},
     "output_type": "execute_result"
    }
   ],
   "source": [
    "np.std(dem_share_fl)"
   ]
  },
  {
   "cell_type": "code",
   "execution_count": 33,
   "metadata": {},
   "outputs": [
    {
     "data": {
      "text/plain": [
       "12.142602117687158"
      ]
     },
     "execution_count": 33,
     "metadata": {},
     "output_type": "execute_result"
    }
   ],
   "source": [
    "np.sqrt(np.var(dem_share_fl))"
   ]
  },
  {
   "cell_type": "code",
   "execution_count": 34,
   "metadata": {},
   "outputs": [
    {
     "data": {
      "text/plain": [
       "12.142602117687158"
      ]
     },
     "execution_count": 34,
     "metadata": {},
     "output_type": "execute_result"
    }
   ],
   "source": [
    "all_states_std = all_states[['state', 'total_votes', 'dem_votes', 'rep_votes', 'other_votes', 'dem_share']].groupby(['state']).std(ddof=0)\n",
    "all_states_std.dem_share.loc['FL']"
   ]
  },
  {
   "cell_type": "code",
   "execution_count": 35,
   "metadata": {},
   "outputs": [
    {
     "data": {
      "text/html": [
       "<div>\n",
       "<style scoped>\n",
       "    .dataframe tbody tr th:only-of-type {\n",
       "        vertical-align: middle;\n",
       "    }\n",
       "\n",
       "    .dataframe tbody tr th {\n",
       "        vertical-align: top;\n",
       "    }\n",
       "\n",
       "    .dataframe thead th {\n",
       "        text-align: right;\n",
       "    }\n",
       "</style>\n",
       "<table border=\"1\" class=\"dataframe\">\n",
       "  <thead>\n",
       "    <tr style=\"text-align: right;\">\n",
       "      <th></th>\n",
       "      <th>total_votes</th>\n",
       "      <th>dem_votes</th>\n",
       "      <th>rep_votes</th>\n",
       "      <th>other_votes</th>\n",
       "      <th>dem_share</th>\n",
       "    </tr>\n",
       "    <tr>\n",
       "      <th>state</th>\n",
       "      <th></th>\n",
       "      <th></th>\n",
       "      <th></th>\n",
       "      <th></th>\n",
       "      <th></th>\n",
       "    </tr>\n",
       "  </thead>\n",
       "  <tbody>\n",
       "    <tr>\n",
       "      <td>AK</td>\n",
       "      <td>1979.545268</td>\n",
       "      <td>958.255147</td>\n",
       "      <td>1788.857869</td>\n",
       "      <td>57.070110</td>\n",
       "      <td>11.210186</td>\n",
       "    </tr>\n",
       "    <tr>\n",
       "      <td>AL</td>\n",
       "      <td>47877.444183</td>\n",
       "      <td>23679.887798</td>\n",
       "      <td>25004.123663</td>\n",
       "      <td>416.340031</td>\n",
       "      <td>17.523427</td>\n",
       "    </tr>\n",
       "    <tr>\n",
       "      <td>AR</td>\n",
       "      <td>22082.710391</td>\n",
       "      <td>10951.982529</td>\n",
       "      <td>11466.796262</td>\n",
       "      <td>368.073483</td>\n",
       "      <td>9.597421</td>\n",
       "    </tr>\n",
       "    <tr>\n",
       "      <td>AZ</td>\n",
       "      <td>336918.128317</td>\n",
       "      <td>150533.043458</td>\n",
       "      <td>182852.572197</td>\n",
       "      <td>4020.899516</td>\n",
       "      <td>10.717951</td>\n",
       "    </tr>\n",
       "    <tr>\n",
       "      <td>CA</td>\n",
       "      <td>484748.852298</td>\n",
       "      <td>322508.926289</td>\n",
       "      <td>161864.471516</td>\n",
       "      <td>9653.815033</td>\n",
       "      <td>13.334981</td>\n",
       "    </tr>\n",
       "  </tbody>\n",
       "</table>\n",
       "</div>"
      ],
      "text/plain": [
       "         total_votes      dem_votes      rep_votes  other_votes  dem_share\n",
       "state                                                                     \n",
       "AK       1979.545268     958.255147    1788.857869    57.070110  11.210186\n",
       "AL      47877.444183   23679.887798   25004.123663   416.340031  17.523427\n",
       "AR      22082.710391   10951.982529   11466.796262   368.073483   9.597421\n",
       "AZ     336918.128317  150533.043458  182852.572197  4020.899516  10.717951\n",
       "CA     484748.852298  322508.926289  161864.471516  9653.815033  13.334981"
      ]
     },
     "execution_count": 35,
     "metadata": {},
     "output_type": "execute_result"
    }
   ],
   "source": [
    "all_states_std.head()"
   ]
  },
  {
   "cell_type": "markdown",
   "metadata": {},
   "source": [
    "### Computing the variance\n",
    "\n",
    "It is important to have some understanding of what commonly-used functions are doing under the hood. Though you may already know how to compute variances, this is a beginner course that does not assume so. In this exercise, we will explicitly compute the variance of the petal length of Iris veriscolor using the equations discussed in the videos. We will then use `np.var()` to compute it.\n",
    "\n",
    "**Instructions**\n",
    "\n",
    "* Create an array called differences that is the `difference` between the petal lengths (`versicolor_petal_length`) and the mean petal length. The variable `versicolor_petal_length` is already in your namespace as a NumPy array so you can take advantage of NumPy's vectorized operations.\n",
    "* Square each element in this array. For example, `x**2` squares each element in the array `x`. Store the result as `diff_sq`.\n",
    "* Compute the mean of the elements in `diff_sq` using `np.mean()`. Store the result as `variance_explicit`.\n",
    "* Compute the variance of `versicolor_petal_length` using `np.var()`. Store the result as `variance_np`.\n",
    "* Print both `variance_explicit` and `variance_np` in one `print` call to make sure they are consistent."
   ]
  },
  {
   "cell_type": "code",
   "execution_count": 36,
   "metadata": {},
   "outputs": [
    {
     "name": "stdout",
     "output_type": "stream",
     "text": [
      "0.21640000000000004 0.21640000000000004\n"
     ]
    }
   ],
   "source": [
    "# Array of differences to mean: differences\n",
    "differences = versicolor_petal_length - np.mean(versicolor_petal_length)\n",
    "\n",
    "# Square the differences: diff_sq\n",
    "diff_sq = differences**2\n",
    "\n",
    "# Compute the mean square difference: variance_explicit\n",
    "variance_explicit = np.mean(diff_sq)\n",
    "\n",
    "# Compute the variance using NumPy: variance_np\n",
    "variance_np = np.var(versicolor_petal_length)\n",
    "\n",
    "# Print the results\n",
    "print(variance_explicit, variance_np)"
   ]
  },
  {
   "cell_type": "markdown",
   "metadata": {},
   "source": [
    "### The standard deviation and the variance\n",
    "\n",
    "As mentioned in the video, the standard deviation is the square root of the variance. You will see this for yourself by computing the standard deviation using `np.std()` and comparing it to what you get by computing the variance with `np.var()` and then computing the square root.\n",
    "\n",
    "**Instructions**\n",
    "\n",
    "* Compute the variance of the data in the `versicolor_petal_length` array using `np.var()` and store it in a variable called `variance`.\n",
    "* Print the square root of this value.\n",
    "* Print the standard deviation of the data in the `versicolor_petal_length` array using `np.std()`"
   ]
  },
  {
   "cell_type": "code",
   "execution_count": 37,
   "metadata": {},
   "outputs": [
    {
     "name": "stdout",
     "output_type": "stream",
     "text": [
      "0.4651881339845203 0.4651881339845203\n"
     ]
    }
   ],
   "source": [
    "# Compute the variance: variance\n",
    "variance = np.var(versicolor_petal_length)\n",
    "\n",
    "# Print the square root of the variance\n",
    "std_explicit = np.sqrt(variance)\n",
    "\n",
    "# Print the standard deviation\n",
    "std_np = np.std(versicolor_petal_length)\n",
    "\n",
    "print(std_explicit, std_np)"
   ]
  },
  {
   "cell_type": "markdown",
   "metadata": {},
   "source": [
    "## Covariance and Pearson correlation coefficient\n",
    "\n",
    "![covariance](https://raw.githubusercontent.com/trenton3983/DataCamp/master/Images/statistical_thinking_1/covariance.JPG)\n",
    "\n",
    "* Covariance\n",
    "    * $$covariance = \\frac{1}{n}\\sum_{i=1}^{n}(x_{i} - \\overline{x})(y_{i} - \\overline{y})$$\n",
    "    * The data point differs from the mean vote share and the mean total votes for Obama\n",
    "    * The differences for each data point can be computed\n",
    "    * The covariance is the mean of the product of these differences\n",
    "    * If both x and y tend to be above or below their respective means together, as they are in this data set, the covariance is positive.\n",
    "        * This means they are positively correlated:\n",
    "            * When x is high, so is y\n",
    "            * When the county is populous, it has more votes for Obama\n",
    "    * If x is high while y is low, the covariance is negative\n",
    "        * This means they are negatively correlated (anticorrelated) - not the case for this data set.\n",
    "        \n",
    "![pearson](https://raw.githubusercontent.com/trenton3983/DataCamp/master/Images/statistical_thinking_1/pearson.JPG)\n",
    "\n",
    "* Pearson correlation\n",
    "    * A more generally applicable measure of how two variables depend on each other, should be dimensionless (not units).\n",
    "    * $$\\rho = Pearson\\space correlation = \\frac{covariance}{(std\\space of\\space x)(std\\space of\\space y)}$$\n",
    "    * $$\\rho = \\frac{variability\\space due\\space to\\space codependence}{independent\\space variability}$$\n",
    "    * Comparison of the variability in the data due to codependence (the covariance) to the variability inherent to each variable independently (their standard deviations).\n",
    "    * It's dimensionless and ranges from -1 (for complete anticorrelation) to 1 (for complete correlation).\n",
    "    * A value of zero means there is no correlation between the data, as shown in the upper left plot.\n",
    "    * Good metric for correlation between two variables."
   ]
  },
  {
   "cell_type": "code",
   "execution_count": 38,
   "metadata": {},
   "outputs": [
    {
     "data": {
      "image/png": "[encoded data removed]",
      "text/plain": [
       "<Figure size 720x576 with 1 Axes>"
      ]
     },
     "metadata": {},
     "output_type": "display_data"
    }
   ],
   "source": [
    "plt.figure(figsize=(10, 8))\n",
    "sns.scatterplot(x='total_votes', y='dem_share', data=swing, hue='state')\n",
    "plt.xlabel('total votes')\n",
    "plt.ylabel('% of vote for Obama')\n",
    "plt.xticks([x for x in range(0, 1000000, 100000)], rotation=40)\n",
    "plt.yticks([x for x in range(0, 100, 10)])\n",
    "\n",
    "# Create a Rectangle patch\n",
    "plt.gca().add_patch(Rectangle((400000, 52), 500000, 34, linewidth=1, edgecolor='b', facecolor='none'))\n",
    "\n",
    "plt.gca().add_patch(Rectangle((0, 5), 50000, 45, linewidth=1, edgecolor='r', facecolor='none'))\n",
    "\n",
    "# Annotate\n",
    "plt.annotate('12 largest counties; most vote for Obama', xy=(650000, 52), weight='bold',\n",
    "             xytext=(400000, 35), fontsize=10, arrowprops=dict(arrowstyle=\"->\", color='b'))\n",
    "\n",
    "plt.annotate('small counties; most vote for McCain', xy=(50000, 20), weight='bold',\n",
    "             xytext=(150000, 7), fontsize=10, arrowprops=dict(arrowstyle=\"->\", color='r'))\n",
    "\n",
    "plt.show()"
   ]
  },
  {
   "cell_type": "markdown",
   "metadata": {},
   "source": [
    "### Scatter plots\n",
    "\n",
    "When you made bee swarm plots, box plots, and ECDF plots in previous exercises, you compared the petal lengths of different species of iris. But what if you want to compare two properties of a single species? This is exactly what we will do in this exercise. We will make a **scatter plot** of the petal length and width measurements of Anderson's Iris versicolor flowers. If the flower scales (that is, it preserves its proportion as it grows), we would expect the length and width to be correlated.\n",
    "\n",
    "For your reference, the code used to produce the scatter plot in the video is provided below:\n",
    "\n",
    "```python\n",
    "_ = plt.plot(total_votes/1000, dem_share, marker='.', linestyle='none')\n",
    "_ = plt.xlabel('total votes (thousands)')\n",
    "_ = plt.ylabel('percent of vote for Obama')\n",
    "```\n",
    "\n",
    "**Instructions**\n",
    "\n",
    "* Use `plt.plot()` with the appropriate keyword arguments to make a scatter plot of versicolor petal length (x-axis) versus petal width (y-axis). The variables `versicolor_petal_length` and `versicolor_petal_width` are already in your namespace. Do not forget to use the `marker='.'` and `linestyle='none'` keyword arguments.\n",
    "* Label the axes.\n",
    "* Display the plot."
   ]
  },
  {
   "cell_type": "code",
   "execution_count": 39,
   "metadata": {},
   "outputs": [
    {
     "data": {
      "image/png": "[encoded data removed]",
      "text/plain": [
       "<Figure size 432x288 with 1 Axes>"
      ]
     },
     "metadata": {},
     "output_type": "display_data"
    }
   ],
   "source": [
    "versicolor_petal_width = iris_df['petal width (cm)'][iris_df.species == 'versicolour']\n",
    "\n",
    "# Make a scatter plot\n",
    "_ = plt.plot(versicolor_petal_length, versicolor_petal_width, marker='.', linestyle='none')\n",
    "\n",
    "# Label the axes\n",
    "_ = plt.xlabel('petal length (cm)')\n",
    "_ = plt.ylabel('petal width (cm)')\n",
    "\n",
    "# Show the result\n",
    "plt.show()"
   ]
  },
  {
   "cell_type": "markdown",
   "metadata": {},
   "source": [
    "### Variance and covariance by looking\n",
    "\n",
    "![](https://raw.githubusercontent.com/trenton3983/DataCamp/master/Images/statistical_thinking_1/var_covar_by_looking.JPG)\n",
    "\n",
    "Consider four scatter plots of x-y data, appearing to the right. Which has, respectively,\n",
    "\n",
    "* the highest variance in the variable x,\n",
    "* the highest covariance,\n",
    "* negative covariance?\n",
    "\n",
    "**Instructions**\n",
    "\n",
    "Possible Answers\n",
    "* ~~a, c, b~~\n",
    "* ~~d, c, a~~\n",
    "* __**d, c, b**__\n",
    "* ~~d, d, b~~"
   ]
  },
  {
   "cell_type": "markdown",
   "metadata": {},
   "source": [
    "### Computing the covariance\n",
    "\n",
    "The covariance may be computed using the Numpy function `np.cov()`. For example, we have two sets of data `x` and `y`, `np.cov(x, y)` returns a 2D array where entries `[0,1]` and `[1,0]` are the covariances. Entry `[0,0]` is the variance of the data in x, and entry `[1,1]` is the variance of the data in `y`. This 2D output array is called the covariance matrix, since it organizes the self- and covariance.\n",
    "\n",
    "To remind you how the *I. versicolor* petal length and width are related, we include the scatter plot you generated in a previous exercise.\n",
    "\n",
    "**Instructions**\n",
    "\n",
    "* Use `np.cov()` to compute the covariance matrix for the petal length (`versicolor_petal_length`) and width (`versicolor_petal_width`) of *I. versicolor*.\n",
    "* Print the covariance matrix.\n",
    "* Extract the covariance from entry `[0,1]` of the covariance matrix. Note that by symmetry, entry `[1,0]` is the same as entry `[0,1]`.\n",
    "* Print the covariance."
   ]
  },
  {
   "cell_type": "code",
   "execution_count": 40,
   "metadata": {},
   "outputs": [
    {
     "data": {
      "text/html": [
       "<div>\n",
       "<style scoped>\n",
       "    .dataframe tbody tr th:only-of-type {\n",
       "        vertical-align: middle;\n",
       "    }\n",
       "\n",
       "    .dataframe tbody tr th {\n",
       "        vertical-align: top;\n",
       "    }\n",
       "\n",
       "    .dataframe thead th {\n",
       "        text-align: right;\n",
       "    }\n",
       "</style>\n",
       "<table border=\"1\" class=\"dataframe\">\n",
       "  <thead>\n",
       "    <tr style=\"text-align: right;\">\n",
       "      <th></th>\n",
       "      <th>petal length (cm)</th>\n",
       "      <th>petal width (cm)</th>\n",
       "    </tr>\n",
       "  </thead>\n",
       "  <tbody>\n",
       "    <tr>\n",
       "      <td>petal length (cm)</td>\n",
       "      <td>0.220816</td>\n",
       "      <td>0.073102</td>\n",
       "    </tr>\n",
       "    <tr>\n",
       "      <td>petal width (cm)</td>\n",
       "      <td>0.073102</td>\n",
       "      <td>0.039106</td>\n",
       "    </tr>\n",
       "  </tbody>\n",
       "</table>\n",
       "</div>"
      ],
      "text/plain": [
       "                   petal length (cm)  petal width (cm)\n",
       "petal length (cm)           0.220816          0.073102\n",
       "petal width (cm)            0.073102          0.039106"
      ]
     },
     "execution_count": 40,
     "metadata": {},
     "output_type": "execute_result"
    }
   ],
   "source": [
    "iris_df[['petal length (cm)', 'petal width (cm)']][iris_df.species == 'versicolour'].cov()"
   ]
  },
  {
   "cell_type": "code",
   "execution_count": 41,
   "metadata": {},
   "outputs": [
    {
     "data": {
      "text/plain": [
       "array([[0.22081633, 0.07310204],\n",
       "       [0.07310204, 0.03910612]])"
      ]
     },
     "execution_count": 41,
     "metadata": {},
     "output_type": "execute_result"
    }
   ],
   "source": [
    "# Compute the covariance matrix: covariance_matrix\n",
    "covariance_matrix = np.cov(versicolor_petal_length, versicolor_petal_width)\n",
    "\n",
    "# Print covariance matrix\n",
    "covariance_matrix"
   ]
  },
  {
   "cell_type": "code",
   "execution_count": 42,
   "metadata": {},
   "outputs": [
    {
     "data": {
      "text/plain": [
       "0.07310204081632653"
      ]
     },
     "execution_count": 42,
     "metadata": {},
     "output_type": "execute_result"
    }
   ],
   "source": [
    "# Extract covariance of length and width of petals: petal_cov\n",
    "petal_cov = covariance_matrix[0, 1]\n",
    "\n",
    "# Print the length/width covariance\n",
    "petal_cov"
   ]
  },
  {
   "cell_type": "markdown",
   "metadata": {},
   "source": [
    "### Computing the Pearson correlation coefficient\n",
    "\n",
    "As mentioned in the video, the Pearson correlation coefficient, also called the Pearson r, is often easier to interpret than the covariance. It is computed using the `np.corrcoef()` function. Like `np.cov()`, it takes two arrays as arguments and returns a 2D array. Entries `[0,0]` and `[1,1]` are necessarily equal to 1 (can you think about why?), and the value we are after is entry `[0,1]`.\n",
    "\n",
    "In this exercise, you will write a function, `pearson_r(x, y)` that takes in two arrays and returns the Pearson correlation coefficient. You will then use this function to compute it for the petal lengths and widths of *I. versicolor*.\n",
    "\n",
    "Again, we include the scatter plot you generated in a previous exercise to remind you how the petal width and length are related.\n",
    "\n",
    "**Instructions**\n",
    "\n",
    "* Define a function with signature `pearson_r(x, y)`.\n",
    "    * Use `np.corrcoef()` to compute the correlation matrix of `x` and `y` (pass them to `np.corrcoef()` in that order).\n",
    "    * The function returns entry `[0,1]` of the correlation matrix.\n",
    "* Compute the Pearson correlation between the data in the arrays `versicolor_petal_length` and `versicolor_petal_width`. Assign the result to `r`.\n",
    "* Print the result."
   ]
  },
  {
   "cell_type": "code",
   "execution_count": 43,
   "metadata": {},
   "outputs": [
    {
     "data": {
      "text/html": [
       "<div>\n",
       "<style scoped>\n",
       "    .dataframe tbody tr th:only-of-type {\n",
       "        vertical-align: middle;\n",
       "    }\n",
       "\n",
       "    .dataframe tbody tr th {\n",
       "        vertical-align: top;\n",
       "    }\n",
       "\n",
       "    .dataframe thead th {\n",
       "        text-align: right;\n",
       "    }\n",
       "</style>\n",
       "<table border=\"1\" class=\"dataframe\">\n",
       "  <thead>\n",
       "    <tr style=\"text-align: right;\">\n",
       "      <th></th>\n",
       "      <th>petal length (cm)</th>\n",
       "      <th>petal width (cm)</th>\n",
       "    </tr>\n",
       "  </thead>\n",
       "  <tbody>\n",
       "    <tr>\n",
       "      <td>petal length (cm)</td>\n",
       "      <td>1.000000</td>\n",
       "      <td>0.786668</td>\n",
       "    </tr>\n",
       "    <tr>\n",
       "      <td>petal width (cm)</td>\n",
       "      <td>0.786668</td>\n",
       "      <td>1.000000</td>\n",
       "    </tr>\n",
       "  </tbody>\n",
       "</table>\n",
       "</div>"
      ],
      "text/plain": [
       "                   petal length (cm)  petal width (cm)\n",
       "petal length (cm)           1.000000          0.786668\n",
       "petal width (cm)            0.786668          1.000000"
      ]
     },
     "execution_count": 43,
     "metadata": {},
     "output_type": "execute_result"
    }
   ],
   "source": [
    "iris_df[['petal length (cm)', 'petal width (cm)']][iris_df.species == 'versicolour'].corr()"
   ]
  },
  {
   "cell_type": "code",
   "execution_count": 44,
   "metadata": {},
   "outputs": [
    {
     "name": "stdout",
     "output_type": "stream",
     "text": [
      "0.7866680885228169\n"
     ]
    }
   ],
   "source": [
    "def pearson_r(x, y):\n",
    "    \"\"\"Compute Pearson correlation coefficient between two arrays.\"\"\"\n",
    "    # Compute correlation matrix: corr_mat\n",
    "    corr_mat = np.corrcoef(x, y)\n",
    "\n",
    "    # Return entry [0,1]\n",
    "    return corr_mat[0,1]\n",
    "\n",
    "# Compute Pearson correlation coefficient for I. versicolor: r\n",
    "r = pearson_r(versicolor_petal_length, versicolor_petal_width)\n",
    "\n",
    "# Print the result\n",
    "print(r)"
   ]
  },
  {
   "cell_type": "markdown",
   "metadata": {},
   "source": [
    "# Thinking probabilistically: Discrete variables\n",
    "\n",
    "Statistical inference rests upon probability. Because we can very rarely say anything meaningful with absolute certainty from data, we use probabilistic language to make quantitative statements about data. In this chapter, you will learn how to think probabilistically about discrete quantities, those that can only take certain values, like integers. It is an important first step in building the probabilistic language necessary to think statistically."
   ]
  },
  {
   "cell_type": "markdown",
   "metadata": {},
   "source": [
    "## Probabilistic logic and statistical inference\n",
    "\n",
    "* Probabilistic reasoning allows us to describe uncertainty\n",
    "* Given a set of data, you describe probabilistically what you might expect if those data were acquired repeatedly\n",
    "* This is the heart of statistical inference\n",
    "* It's the process by which we go from measured data to probabilistic conclusions about what we might expect if we collected the same data again."
   ]
  },
  {
   "cell_type": "markdown",
   "metadata": {},
   "source": [
    "### What is the goal of statistical inference?\n",
    "\n",
    "Why do we do statistical inference?\n",
    "\n",
    "**Possible Answers**\n",
    "\n",
    "* To draw probabilistic conclusions about what we might expect if we collected the same data again.\n",
    "* To draw actionable conclusions from data.\n",
    "* To draw more general conclusions from relatively few data or observations.\n",
    "* __**All of these.**__"
   ]
  },
  {
   "cell_type": "markdown",
   "metadata": {},
   "source": [
    "### Why do we use the language of probablility?\n",
    "\n",
    "Which of the following is not a reason why we use probabilistic language in statistical inference?\n",
    "\n",
    "**Possible Answers**\n",
    "\n",
    "* Probability provides a measure of uncertainty.\n",
    "* __**Probabilistic language is not very precise.**__\n",
    "* Data are almost never exactly the same when acquired again, and probability allows us to say how much we expect them to vary."
   ]
  },
  {
   "cell_type": "markdown",
   "metadata": {},
   "source": [
    "## Random number generators and hacker statistics\n",
    "\n",
    "* Instead o repeating data acquisition over and over, repeated measurements can be simulated\n",
    "* The concepts of probabilities originated from games of chance\n",
    "* What's the probability of getting 4 heads with 4 flips of a coin?\n",
    "* This type of data can be generated using `np.random.random`\n",
    "    * drawn a number between 0 and 1\n",
    "    * $<0.5\\longrightarrow\\text{heads}$\n",
    "    * $\\geq0.5\\longrightarrow\\text{tails}$\n",
    "    * The pseudo random number generator works by starting with an integer, called a seed, and then generates random numbers in succession\n",
    "    * The same seed gives the same sequence of random numbers\n",
    "    * Manually seed the random number generator for reproducible results\n",
    "    * Specified using `np.random.seed()`"
   ]
  },
  {
   "cell_type": "markdown",
   "metadata": {},
   "source": [
    "#### Bernoulli Trial\n",
    "\n",
    "* An experiment that has two options, \"success\" (True) and \"failure\" (False)."
   ]
  },
  {
   "cell_type": "markdown",
   "metadata": {},
   "source": [
    "#### Hacker stats probabilities\n",
    "\n",
    "* Determine how to simulate data\n",
    "* Simulated it repeatedly\n",
    "* Compute the fraction of trials that had the outcome of interest\n",
    "    * Probability is approximately the fraction of trials with the outcome of interest"
   ]
  },
  {
   "cell_type": "markdown",
   "metadata": {},
   "source": [
    "#### Simulated coin flips"
   ]
  },
  {
   "cell_type": "code",
   "execution_count": 45,
   "metadata": {},
   "outputs": [
    {
     "data": {
      "text/plain": [
       "array([0.37454012, 0.95071431, 0.73199394, 0.59865848])"
      ]
     },
     "execution_count": 45,
     "metadata": {},
     "output_type": "execute_result"
    }
   ],
   "source": [
    "np.random.seed(42)\n",
    "random_numbers = np.random.random(size=4)\n",
    "\n",
    "random_numbers"
   ]
  },
  {
   "cell_type": "code",
   "execution_count": 46,
   "metadata": {},
   "outputs": [
    {
     "data": {
      "text/plain": [
       "array([ True, False, False, False])"
      ]
     },
     "execution_count": 46,
     "metadata": {},
     "output_type": "execute_result"
    }
   ],
   "source": [
    "heads = random_numbers < 0.5\n",
    "\n",
    "heads"
   ]
  },
  {
   "cell_type": "code",
   "execution_count": 47,
   "metadata": {},
   "outputs": [
    {
     "data": {
      "text/plain": [
       "1"
      ]
     },
     "execution_count": 47,
     "metadata": {},
     "output_type": "execute_result"
    }
   ],
   "source": [
    "np.sum(heads)"
   ]
  },
  {
   "cell_type": "markdown",
   "metadata": {},
   "source": [
    "* The number of heads can be computed by summing the array of Booleans, because in numerical contexts, Python treats True as 1 and False as 0.\n",
    "* We want to know the probability of getting four heads if we were to repeatedly flip the 4 coins"
   ]
  },
  {
   "cell_type": "markdown",
   "metadata": {},
   "source": [
    "* without `list comprehension`\n",
    "\n",
    "```python\n",
    "n_all_heads = 0  # initialize number of 4-heads trials\n",
    "\n",
    "for _ in range(10000):\n",
    "    heads = np.random.random(size=4) < 0.5\n",
    "    n_heads = np.sum(heads)\n",
    "    if n_heads == 4:\n",
    "        n_all_heads += 1\n",
    "```\n",
    "\n",
    "* with `list comprehension`"
   ]
  },
  {
   "cell_type": "code",
   "execution_count": 48,
   "metadata": {},
   "outputs": [],
   "source": [
    "n_all_heads = sum([1 for _ in range(10000) if sum(np.random.random(size=4) < 0.5) == 4])"
   ]
  },
  {
   "cell_type": "code",
   "execution_count": 49,
   "metadata": {},
   "outputs": [
    {
     "data": {
      "text/plain": [
       "619"
      ]
     },
     "execution_count": 49,
     "metadata": {},
     "output_type": "execute_result"
    }
   ],
   "source": [
    "n_all_heads"
   ]
  },
  {
   "cell_type": "code",
   "execution_count": 50,
   "metadata": {},
   "outputs": [
    {
     "data": {
      "text/plain": [
       "0.0619"
      ]
     },
     "execution_count": 50,
     "metadata": {},
     "output_type": "execute_result"
    }
   ],
   "source": [
    "n_all_heads/10000"
   ]
  },
  {
   "cell_type": "markdown",
   "metadata": {},
   "source": [
    "### Generating random numbers using the `np.random` module\n",
    "\n",
    "We will be hammering the `np.random` module for the rest of this course and its sequel. Actually, you will probably call functions from this module more than any other while wearing your hacker statistician hat. Let's start by taking its simplest function, `np.random.random()` for a test spin. The function returns a random number between zero and one. Call `np.random.random()` a few times in the IPython shell. You should see numbers jumping around between zero and one.\n",
    "\n",
    "In this exercise, we'll generate lots of random numbers between zero and one, and then plot a histogram of the results. If the numbers are truly random, all bars in the histogram should be of (close to) equal height.\n",
    "\n",
    "You may have noticed that, in the video, Justin generated 4 random numbers by passing the keyword argument `size=4` to `np.random.random()`. Such an approach is more efficient than a `for` loop: in this exercise, however, you will write a `for` loop to experience hacker statistics as the practice of repeating an experiment over and over again.\n",
    "\n",
    "**Instructions**\n",
    "\n",
    "* Seed the random number generator using the seed `42`.\n",
    "* Initialize an empty array, `random_numbers`, of 100,000 entries to store the random numbers. Make sure you use `np.empty(100000)` to do this.\n",
    "* Write a `for` loop to draw 100,000 random numbers using `np.random.random()`, storing them in the `random_numbers` array. To do so, loop over `range(100000)`.\n",
    "* Plot a histogram of `random_numbers`. It is not necessary to label the axes in this case because we are just checking the random number generator. Hit 'Submit Answer' to show your plot."
   ]
  },
  {
   "cell_type": "code",
   "execution_count": 51,
   "metadata": {},
   "outputs": [
    {
     "data": {
      "image/png": "[encoded data removed]",
      "text/plain": [
       "<Figure size 432x288 with 1 Axes>"
      ]
     },
     "metadata": {},
     "output_type": "display_data"
    }
   ],
   "source": [
    "# Seed the random number generator\n",
    "np.random.seed(42)\n",
    "\n",
    "# Initialize random numbers: random_numbers\n",
    "random_numbers = np.empty(100000)\n",
    "\n",
    "# Generate random numbers by looping over range(100000)\n",
    "for i in range(100000):\n",
    "    random_numbers[i] = np.random.random()\n",
    "\n",
    "# Plot a histogram\n",
    "_ = plt.hist(random_numbers)\n",
    "\n",
    "# Show the plot\n",
    "plt.show()"
   ]
  },
  {
   "cell_type": "code",
   "execution_count": 52,
   "metadata": {},
   "outputs": [
    {
     "data": {
      "image/png": "[encoded data removed]",
      "text/plain": [
       "<Figure size 432x288 with 1 Axes>"
      ]
     },
     "metadata": {},
     "output_type": "display_data"
    }
   ],
   "source": [
    "sns.distplot(random_numbers)\n",
    "plt.show()"
   ]
  },
  {
   "cell_type": "markdown",
   "metadata": {},
   "source": [
    "**The histogram is nearly flat across the top, indicating there is equal chance a randomly-generated number is in any of the histogram bins.**\n",
    "\n",
    "* [Generating Random Numbers With `NumPy`](https://chrisalbon.com/python/basics/generating_random_numbers_with_numpy/)"
   ]
  },
  {
   "cell_type": "markdown",
   "metadata": {},
   "source": [
    "#### Using `np.random.rand`"
   ]
  },
  {
   "cell_type": "code",
   "execution_count": 53,
   "metadata": {},
   "outputs": [],
   "source": [
    "rand_num = np.random.rand(100000)"
   ]
  },
  {
   "cell_type": "code",
   "execution_count": 54,
   "metadata": {},
   "outputs": [
    {
     "data": {
      "image/png": "[encoded data removed]",
      "text/plain": [
       "<Figure size 432x288 with 1 Axes>"
      ]
     },
     "metadata": {},
     "output_type": "display_data"
    }
   ],
   "source": [
    "sns.distplot(rand_num)\n",
    "plt.show()"
   ]
  },
  {
   "cell_type": "markdown",
   "metadata": {},
   "source": [
    "### The np.random module and Bernoulli trials\n",
    "\n",
    "You can think of a Bernoulli trial as a flip of a possibly biased coin. Specifically, each coin flip has a probability ***p*** of landing heads (success) and probability ***1−p*** of landing tails (failure). In this exercise, you will write a function to perform `n` [Bernoulli trials](https://en.wikipedia.org/wiki/Bernoulli_trial), `perform_bernoulli_trials(n, p)`, which returns the number of successes out of `n` Bernoulli trials, each of which has probability `p` of success. To perform each Bernoulli trial, use the `np.random.random()` function, which returns a random number between zero and one.\n",
    "\n",
    "**Instructions**\n",
    "\n",
    "* Define a function with signature `perform_bernoulli_trials(n, p)`.\n",
    "    * Initialize to zero a variable `n_success` the counter of `True` occurrences, which are Bernoulli trial successes.\n",
    "    * Write a `for` loop where you perform a Bernoulli trial in each iteration and increment the number of success if the result is `True`. Perform `n` iterations by looping over `range(n)`.\n",
    "        * To perform a Bernoulli trial, choose a random number between zero and one using `np.random.random()`. If the number you chose is less than `p`, increment n_success (use the `+= 1` operator to achieve this).\n",
    "* The function returns the number of successes `n_success`."
   ]
  },
  {
   "cell_type": "markdown",
   "metadata": {},
   "source": [
    "#### def perform_bernoulli_trials()"
   ]
  },
  {
   "cell_type": "code",
   "execution_count": 55,
   "metadata": {},
   "outputs": [],
   "source": [
    "def perform_bernoulli_trials(n: int=100000, p: float=0.5) -> int:\n",
    "    \"\"\"\n",
    "    Perform n Bernoulli trials with success probability p\n",
    "    and return number of successes.\n",
    "    n: number of iterations\n",
    "    p: target number between 0 and 1, inclusive\n",
    "    \"\"\"\n",
    "    # Initialize number of successes: n_success\n",
    "    n_success = 0\n",
    "\n",
    "    # Perform trials\n",
    "    for i in range(n):\n",
    "        # Choose random number between zero and one: random_number\n",
    "        random_number = np.random.random()\n",
    "\n",
    "        # If less than p, it's a success so add one to n_success\n",
    "        if random_number < p:\n",
    "            n_success += 1\n",
    "\n",
    "    return n_success"
   ]
  },
  {
   "cell_type": "markdown",
   "metadata": {},
   "source": [
    "##### With `list comprehension`"
   ]
  },
  {
   "cell_type": "code",
   "execution_count": 56,
   "metadata": {},
   "outputs": [],
   "source": [
    "def perform_bernoulli_trials(n: int=100000, p: float=0.5) -> int:\n",
    "    \"\"\"\n",
    "    Perform n Bernoulli trials with success probability p\n",
    "    and return number of successes.\n",
    "    n: number of iterations\n",
    "    p: target number between 0 and 1, inclusive\n",
    "    \"\"\"\n",
    "\n",
    "    return sum([1 for _ in range(n) if np.random.random() < p])"
   ]
  },
  {
   "cell_type": "markdown",
   "metadata": {},
   "source": [
    "### How many defaults might we expect?\n",
    "\n",
    "Let's say a bank made 100 mortgage loans. It is possible that anywhere between 0 and 100 of the loans will be defaulted upon. You would like to know the probability of getting a given number of defaults, given that the probability of a default is `p = 0.05`. To investigate this, you will do a simulation. You will perform 100 Bernoulli trials using the `perform_bernoulli_trials()` function you wrote in the previous exercise and record how many defaults we get. Here, a success is a default. (Remember that the word \"success\" just means that the Bernoulli trial evaluates to `True`, i.e., did the loan recipient default?) You will do this for another 100 Bernoulli trials. And again and again until we have tried it 1000 times. Then, you will plot a histogram describing the probability of the number of defaults.\n",
    "\n",
    "**Instructions**\n",
    "\n",
    "* Seed the random number generator to 42.\n",
    "* Initialize `n_defaults`, an empty array, using `np.empty()`. It should contain 1000 entries, since we are doing 1000 simulations.\n",
    "* Write a `for` loop with `1000` iterations to compute the number of defaults per 100 loans using the `perform_bernoulli_trials()` function. It accepts two arguments: the number of trials `n` - in this case 100 - and the probability of success `p` - in this case the probability of a default, which is `0.05`. On each iteration of the loop store the result in an entry of `n_defaults`.\n",
    "* Plot a histogram of `n_defaults`. Include the `normed=True` keyword argument so that the height of the bars of the histogram indicate the probability."
   ]
  },
  {
   "cell_type": "code",
   "execution_count": 57,
   "metadata": {},
   "outputs": [
    {
     "data": {
      "image/png": "[encoded data removed]",
      "text/plain": [
       "<Figure size 432x288 with 1 Axes>"
      ]
     },
     "metadata": {},
     "output_type": "display_data"
    }
   ],
   "source": [
    "# Seed random number generator\n",
    "np.random.seed(42)\n",
    "\n",
    "# Initialize the number of defaults: n_defaults\n",
    "n_defaults = np.empty(1000)\n",
    "\n",
    "# Compute the number of defaults\n",
    "for i in range(1000):\n",
    "    n_defaults[i] = perform_bernoulli_trials(100, 0.05)\n",
    "\n",
    "\n",
    "# Plot the histogram with default number of bins; label your axes\n",
    "_ = plt.hist(n_defaults, density=True)\n",
    "_ = plt.xlabel('number of defaults out of 100 loans')\n",
    "_ = plt.ylabel('probability')\n",
    "\n",
    "# Show the plot\n",
    "plt.show()"
   ]
  },
  {
   "cell_type": "markdown",
   "metadata": {},
   "source": [
    "**This is not an optimal way to plot a histogram when the results are known to be integers. This will be revisited in forthcoming exercises.**"
   ]
  },
  {
   "cell_type": "markdown",
   "metadata": {},
   "source": [
    "#### With `list comprehension`"
   ]
  },
  {
   "cell_type": "code",
   "execution_count": 58,
   "metadata": {},
   "outputs": [
    {
     "data": {
      "image/png": "[encoded data removed]",
      "text/plain": [
       "<Figure size 432x288 with 1 Axes>"
      ]
     },
     "metadata": {},
     "output_type": "display_data"
    }
   ],
   "source": [
    "np.random.seed(42)\n",
    "n_defaults = np.asarray([perform_bernoulli_trials(100, 0.05) for _ in range(1000)])\n",
    "\n",
    "plt.hist(n_defaults, density=True)\n",
    "plt.xlabel('number of defaults out of 100 loans')\n",
    "plt.ylabel('probability')\n",
    "plt.show()"
   ]
  },
  {
   "cell_type": "markdown",
   "metadata": {},
   "source": [
    "### Will the bank fail?\n",
    "\n",
    "Using `def ecdf()` from the first section, plot the number of `n_defaults` from the previous exercise, as a CDF.\n",
    "\n",
    "If interest rates are such that the bank will lose money if 10 or more of its loans are defaulted upon, what is the probability that the bank will lose money?\n",
    "\n",
    "**Instructions**\n",
    "\n",
    "* Compute the `x` and `y` values for the ECDF of `n_defaults`.\n",
    "* Plot the ECDF, making sure to label the axes. Remember to include `marker='.'` and `linestyle='none'` in addition to `x` and `y` in your call `plt.plot()`.\n",
    "* Show the plot.\n",
    "* Compute the total number of entries in your `n_defaults` array that were greater than or equal to 10. To do so, compute a boolean array that tells you whether a given entry of `n_defaults` is `>= 10`. Then sum all the entries in this array using `np.sum()`. For example, `np.sum(n_defaults <= 5)` would compute the number of defaults with 5 or *fewer* defaults.\n",
    "* The probability that the bank loses money is the fraction of `n_defaults` that are greater than or equal to 10."
   ]
  },
  {
   "cell_type": "code",
   "execution_count": 59,
   "metadata": {},
   "outputs": [
    {
     "data": {
      "image/png": "[encoded data removed]",
      "text/plain": [
       "<Figure size 432x288 with 1 Axes>"
      ]
     },
     "metadata": {},
     "output_type": "display_data"
    },
    {
     "name": "stdout",
     "output_type": "stream",
     "text": [
      "Probability of losing money = 0.022\n"
     ]
    }
   ],
   "source": [
    "# Compute ECDF: x, y\n",
    "x, y = ecdf(n_defaults)\n",
    "\n",
    "# Plot the ECDF with labeled axes\n",
    "plt.plot(x, y, marker='.', linestyle='none')\n",
    "plt.xlabel('Number of Defaults out of 100')\n",
    "plt.ylabel('CDF')\n",
    "\n",
    "# Show the plot\n",
    "plt.show()\n",
    "\n",
    "# Compute the number of 100-loan simulations with 10 or more defaults: n_lose_money\n",
    "n_lose_money = sum(n_defaults >= 10)\n",
    "\n",
    "# Compute and print probability of losing money\n",
    "print('Probability of losing money =', n_lose_money / len(n_defaults))"
   ]
  },
  {
   "cell_type": "markdown",
   "metadata": {},
   "source": [
    "**As might be expected, about 5/100 defaults occur. There's about a 2% chance of getting 10 or more defaults out of 100 loans.**"
   ]
  },
  {
   "cell_type": "markdown",
   "metadata": {},
   "source": [
    "## Probability distributions and stories: The Binomial distribution\n",
    "\n",
    "* [Probability Distributions in Python](https://www.datacamp.com/community/tutorials/probability-distributions-python)"
   ]
  },
  {
   "cell_type": "markdown",
   "metadata": {},
   "source": [
    "#### Probability Mass Function (PMF)\n",
    "\n",
    "* [Probability mass function](https://en.wikipedia.org/wiki/Probability_mass_function)\n",
    "* The set of probabilities of discrete outcomes\n",
    "* PMF is a property of a discrete probability distribution"
   ]
  },
  {
   "cell_type": "markdown",
   "metadata": {},
   "source": [
    "#### Discrete Uniform PMF\n",
    "\n",
    "* ![](https://raw.githubusercontent.com/trenton3983/DataCamp/master/Images/statistical_thinking_1/discrete_uniform_pmf.JPG)\n",
    "* The outcomes are discrete because only certain values may be attained; there is not option for 3.7\n",
    "* Each result has a uniform probability of 1/6"
   ]
  },
  {
   "cell_type": "markdown",
   "metadata": {},
   "source": [
    "#### Probability Distribution\n",
    "\n",
    "* [Probability distribution](https://en.wikipedia.org/wiki/Probability_distribution)\n",
    "* A mathematical description of outcomes"
   ]
  },
  {
   "cell_type": "markdown",
   "metadata": {},
   "source": [
    "#### Discrete Uniform Distribution\n",
    "\n",
    "* [Discrete uniform distribution](https://en.wikipedia.org/wiki/Discrete_uniform_distribution)\n",
    "* The outcome of rolling a single fair die, is Discrete Uniformly distributed"
   ]
  },
  {
   "cell_type": "markdown",
   "metadata": {},
   "source": [
    "#### Binomial Distribution\n",
    "\n",
    "* [Binomial distribution](https://en.wikipedia.org/wiki/Binomial_distribution)\n",
    "* The number ***r*** of successes in ***n*** Bernoulli trials with probability ***p*** of success, is Binomially distributed\n",
    "* The number ***r*** of heads in 4 coin flips with probability ***p = 0.5*** of heads, is Binomially distributed"
   ]
  },
  {
   "cell_type": "code",
   "execution_count": 60,
   "metadata": {},
   "outputs": [
    {
     "data": {
      "text/plain": [
       "2"
      ]
     },
     "execution_count": 60,
     "metadata": {},
     "output_type": "execute_result"
    }
   ],
   "source": [
    "np.random.binomial(4, 0.5)"
   ]
  },
  {
   "cell_type": "code",
   "execution_count": 61,
   "metadata": {},
   "outputs": [
    {
     "data": {
      "text/plain": [
       "array([2, 2, 2, 2, 2, 3, 3, 2, 2, 0])"
      ]
     },
     "execution_count": 61,
     "metadata": {},
     "output_type": "execute_result"
    }
   ],
   "source": [
    "np.random.binomial(4, 0.5, size=10)"
   ]
  },
  {
   "cell_type": "markdown",
   "metadata": {},
   "source": [
    "##### Binomial PMF\n",
    "\n",
    "* To plot the Binomial PMF, take 10000 samples from a Binomial distribution of 60 Bernoulli trials with a probability of success of 0.1\n",
    "* The most likely number of successes is 6 out of 60, but it's possible to get as many as 11 or as few as 1\n",
    "* [`scipy.stats.binom`](https://docs.scipy.org/doc/scipy/reference/generated/scipy.stats.binom.html)"
   ]
  },
  {
   "cell_type": "code",
   "execution_count": 62,
   "metadata": {},
   "outputs": [
    {
     "data": {
      "text/plain": [
       "array([ 5, 10,  7, ..., 10,  5,  4])"
      ]
     },
     "execution_count": 62,
     "metadata": {},
     "output_type": "execute_result"
    }
   ],
   "source": [
    "np.random.seed(42)\n",
    "samples = np.random.binomial(60, 0.1, size=10_000)\n",
    "samples"
   ]
  },
  {
   "cell_type": "markdown",
   "metadata": {},
   "source": [
    "![](https://raw.githubusercontent.com/trenton3983/DataCamp/master/Images/statistical_thinking_1/binomial_pmf.JPG)"
   ]
  },
  {
   "cell_type": "code",
   "execution_count": 63,
   "metadata": {},
   "outputs": [
    {
     "data": {
      "image/png": "[encoded data removed]",
      "text/plain": [
       "<Figure size 432x288 with 1 Axes>"
      ]
     },
     "metadata": {},
     "output_type": "display_data"
    }
   ],
   "source": [
    "n, p = 60, 0.1\n",
    "x = [x for x in range(17)]\n",
    "\n",
    "fig, ax = plt.subplots(1, 1)\n",
    "ax.plot(x, binom.pmf(x, n, p), 'bo', ms=5, label='binom pmf')\n",
    "ax.vlines(x, 0, binom.pmf(x, n, p), colors='b', lw=3, alpha=0.5)\n",
    "plt.xticks(x)\n",
    "plt.ylabel('probability')\n",
    "plt.xlabel('number of successes')\n",
    "plt.show()"
   ]
  },
  {
   "cell_type": "code",
   "execution_count": 64,
   "metadata": {},
   "outputs": [
    {
     "data": {
      "image/png": "[encoded data removed]",
      "text/plain": [
       "<Figure size 432x288 with 1 Axes>"
      ]
     },
     "metadata": {},
     "output_type": "display_data"
    }
   ],
   "source": [
    "sns.set()\n",
    "x, y = ecdf(samples)\n",
    "\n",
    "plt.plot(x, y, marker='.', linestyle='none')\n",
    "plt.margins(0.02)\n",
    "plt.xlabel('Number of Successes')\n",
    "plt.ylabel('CDF')\n",
    "plt.show()"
   ]
  },
  {
   "cell_type": "markdown",
   "metadata": {},
   "source": [
    "### Sampling out of the Binomial distribution\n",
    "\n",
    "Compute the probability mass function for the number of defaults we would expect for 100 loans as in the last section, but instead of simulating all of the Bernoulli trials, perform the sampling using `np.random.binomial()`. This is identical to the calculation you did in the last set of exercises using your custom-written `perform_bernoulli_trials()` function, but far more computationally efficient. Given this extra efficiency, we will take 10,000 samples instead of 1000. After taking the samples, plot the CDF as last time. This CDF that you are plotting is that of the Binomial distribution.\n",
    "\n",
    "Note: For this exercise and all going forward, the random number generator is pre-seeded for you (with `np.random.seed(42)`) to save you typing that each time.\n",
    "\n",
    "**Instructions**\n",
    "\n",
    "* Draw samples out of the Binomial distribution using `np.random.binomial()`. You should use parameters `n = 100` and `p = 0.05`, and set the `size = 10000`.\n",
    "* Compute the CDF using your previously-written `ecdf()` function.\n",
    "* Plot the CDF with axis labels. The x-axis here is the ***number of defaults out of 100 loans***, while the y-axis is the ***CDF***."
   ]
  },
  {
   "cell_type": "code",
   "execution_count": 65,
   "metadata": {},
   "outputs": [
    {
     "data": {
      "image/png": "[encoded data removed]",
      "text/plain": [
       "<Figure size 432x288 with 1 Axes>"
      ]
     },
     "metadata": {},
     "output_type": "display_data"
    }
   ],
   "source": [
    "# Take 10,000 samples out of the binomial distribution: n_defaults\n",
    "np.random.seed(42)\n",
    "n_defaults = np.random.binomial(100, 0.05, size=10_000)\n",
    "\n",
    "# Compute CDF: x, y\n",
    "x, y = ecdf(n_defaults)\n",
    "\n",
    "# Plot the CDF with axis labels\n",
    "plt.plot(x, y, marker='.', linestyle='none')\n",
    "plt.xlabel('number of defaults out of 100 loans')\n",
    "plt.ylabel('CDF')\n",
    "plt.show()"
   ]
  },
  {
   "cell_type": "markdown",
   "metadata": {},
   "source": [
    "### Plotting the Binomial PMF\n",
    "\n",
    "As mentioned in the video, plotting a nice looking PMF requires a bit of matplotlib trickery that we will not go into here. Instead, we will plot the PMF of the Binomial distribution as a histogram with skills you have already learned. The trick is setting up the edges of the bins to pass to `plt.hist()` via the `bins` keyword argument. We want the bins centered on the integers. So, the edges of the bins should be `-0.5, 0.5, 1.5, 2.5, ...` up to `max(n_defaults) + 1.5`. You can generate an array like this using `np.arange()` and then subtracting `0.5` from the array.\n",
    "\n",
    "You have already sampled out of the Binomial distribution during your exercises on loan defaults, and the resulting samples are in the NumPy array `n_defaults`.\n",
    "\n",
    "**Instructions**\n",
    "\n",
    "* Using `np.arange()`, compute the bin edges such that the bins are centered on the integers. Store the resulting array in the variable `bins`.\n",
    "* Use `plt.hist()` to plot the histogram of `n_defaults` with the `normed=True` and `bins=bins` keyword arguments."
   ]
  },
  {
   "cell_type": "code",
   "execution_count": 66,
   "metadata": {},
   "outputs": [
    {
     "data": {
      "image/png": "[encoded data removed]",
      "text/plain": [
       "<Figure size 432x288 with 1 Axes>"
      ]
     },
     "metadata": {},
     "output_type": "display_data"
    }
   ],
   "source": [
    "# Compute bin edges: bins\n",
    "bins = np.arange(0, max(n_defaults) + 1.5) - 0.5\n",
    "\n",
    "# Generate histogram\n",
    "plt.hist(n_defaults, density=True, bins=bins)\n",
    "\n",
    "# Label axes\n",
    "plt.xlabel('number of defaults out of 100 loans')\n",
    "plt.ylabel('PMF')\n",
    "\n",
    "# Show the plot\n",
    "plt.show()"
   ]
  },
  {
   "cell_type": "markdown",
   "metadata": {},
   "source": [
    "## Poisson processes and the Poisson distribution\n",
    "\n",
    "* [Poisson distribution](https://en.wikipedia.org/wiki/Poisson_distribution)\n",
    "* The timing of the next event is completely independent of when the previous event occurred\n",
    "* Examples of Poisson processes:\n",
    "    * Natural births in a given hospital\n",
    "        * There is a well-defined average number of natural births per year, and the timing of one birth is independent of the timing of the previous one\n",
    "    * Hits on a website during a given hour\n",
    "        * The timing of successive hits is independent of the timing of the previous hit\n",
    "    * Meteor strikes\n",
    "    * Molecular collisions in a gas\n",
    "    * Aviation incidents\n",
    "* The number of arrivals of a Poisson process in a given amount of time is Poisson distributed\n",
    "* The number of arrivals ***r*** of a Poisson process in a given time interval with average rate of arrivals $\\lambda$ per interval is Poisson distributed\n",
    "    * The Poisson distribution has one parameter, the average number of arrivals in a given length of time\n",
    "* The number of hits ***r*** on a website in one hour with an average hit rate of 6 hits per hour is Poisson distributed"
   ]
  },
  {
   "cell_type": "markdown",
   "metadata": {},
   "source": [
    "#### Poisson PMF\n",
    "\n",
    "* ![poisson pmf](https://raw.githubusercontent.com/trenton3983/DataCamp/master/Images/statistical_thinking_1/poisson_pmf.JPG)\n",
    "* For the preceding plot, for a given hour, the site is likely to get 6 hits, which is the average, but it's possible to also get 10, or none\n",
    "* This looks like the Binomial PMF from **3.3.0.5.1. Binomial PMF**\n",
    "    The Poisson distribution is a limit of the Binomial distribution for low probability of success and large number of trials, i.e. for rare events\n",
    "* To sample from the Poisson distribution, use `np.random.poisson`.\n",
    "    * It also has the size keyword argument to allow multiple samples\n",
    "    * The Poisson CDF resembles the Binomial CDF"
   ]
  },
  {
   "cell_type": "markdown",
   "metadata": {},
   "source": [
    "#### Poisson CDF"
   ]
  },
  {
   "cell_type": "code",
   "execution_count": 67,
   "metadata": {},
   "outputs": [
    {
     "data": {
      "image/png": "[encoded data removed]",
      "text/plain": [
       "<Figure size 432x288 with 1 Axes>"
      ]
     },
     "metadata": {},
     "output_type": "display_data"
    }
   ],
   "source": [
    "samples = np.random.poisson(6, size=10_000)\n",
    "x, y = ecdf(samples)\n",
    "\n",
    "plt.plot(x, y, marker='.', linestyle='none')\n",
    "plt.margins(0.02)\n",
    "plt.xlabel('number of successes')\n",
    "plt.ylabel('CDF')\n",
    "plt.show()"
   ]
  },
  {
   "cell_type": "markdown",
   "metadata": {},
   "source": [
    "### Relationship between Binomial and Poisson distribution\n",
    "\n",
    "You just heard that the Poisson distribution is a limit of the Binomial distribution for rare events. This makes sense if you think about the stories. Say we do a Bernoulli trial every minute for an hour, each with a success probability of 0.1. We would do 60 trials, and the number of successes is Binomially distributed, and we would expect to get about 6 successes. This is just like the Poisson story we discussed in the video, where we get on average 6 hits on a website per hour. So, the Poisson distribution with arrival rate equal to ***np*** approximates a Binomial distribution for n Bernoulli trials with probability ***p*** of success (with ***n*** large and ***p*** small). Importantly, the Poisson distribution is often simpler to work with because it has only one parameter instead of two for the Binomial distribution.\n",
    "\n",
    "Let's explore these two distributions computationally. You will compute the mean and standard deviation of samples from a Poisson distribution with an arrival rate of 10. Then, you will compute the mean and standard deviation of samples from a Binomial distribution with parameters n and p such that ***np=10***.\n",
    "\n",
    "**Instructions**\n",
    "\n",
    "* Using the `np.random.poisson()` function, draw `10000` samples from a Poisson distribution with a mean of `10`.\n",
    "* Make a list of the `n` and `p` values to consider for the Binomial distribution. Choose `n = [20, 100, 1000]` and `p = [0.5, 0.1, 0.01]` so that ***np*** is always 10.\n",
    "* Using `np.random.binomial()` inside the provided `for` loop, draw `10000` samples from a Binomial distribution with each `n, p` pair and print the mean and standard deviation of the samples. There are 3 `n, p` pairs: `20, 0.5`, `100, 0.1`, and `1000, 0.01`. These can be accessed inside the loop as `n[i], p[i]`."
   ]
  },
  {
   "cell_type": "code",
   "execution_count": 68,
   "metadata": {},
   "outputs": [
    {
     "name": "stdout",
     "output_type": "stream",
     "text": [
      "Poisson: Mean = 10.0421 Std = 3.172\n",
      "n = 20 Binom: Mean = 10.0064 Std = 2.248\n",
      "n = 100 Binom: Mean = 9.9371 Std = 2.980\n",
      "n = 1000 Binom: Mean = 10.0357 Std = 3.164\n",
      "n = 10000 Binom: Mean = 10.0881 Std = 3.195\n"
     ]
    }
   ],
   "source": [
    "# Draw 10,000 samples out of Poisson distribution: samples_poisson\n",
    "samples_poisson = np.random.poisson(10, size=10_000)\n",
    "\n",
    "# Print the mean and standard deviation\n",
    "print(f'Poisson: Mean = {np.mean(samples_poisson)} Std = {np.std(samples_poisson):0.03f}')\n",
    "\n",
    "# Specify values of n and p to consider for Binomial: n, p\n",
    "n = [20, 100, 1_000, 10_000]\n",
    "p = [0.5, 0.1, 0.01, 0.001]\n",
    "\n",
    "# Draw 10,000 samples for each n,p pair: samples_binomial\n",
    "for i in range(4):\n",
    "    samples_binomial = np.random.binomial(n[i], p[i], size=10_000)\n",
    "\n",
    "    # Print results\n",
    "    print(f'n = {n[i]} Binom: Mean = {np.mean(samples_binomial)} Std = {np.std(samples_binomial):0.03f}')"
   ]
  },
  {
   "cell_type": "markdown",
   "metadata": {},
   "source": [
    "**The means are all about the same. The standard deviation of the Binomial distribution gets closer and closer to that of the Poisson distribution as the probability p gets lower and lower.**"
   ]
  },
  {
   "cell_type": "markdown",
   "metadata": {},
   "source": [
    "### How many no-hitters in a season?\n",
    "\n",
    "In baseball, a no-hitter is a game in which a pitcher does not allow the other team to get a hit. This is a rare event, and since the beginning of the so-called modern era of baseball (starting in 1901), there have only been 251 of them through the 2015 season in over 200,000 games. The ECDF of the number of no-hitters in a season is shown to the right. Which probability distribution would be appropriate to describe the number of no-hitters we would expect in a given season?\n",
    "\n",
    "* ![no hitters ecdf](https://raw.githubusercontent.com/trenton3983/DataCamp/master/Images/statistical_thinking_1/no_hitter_ecdf.JPG)\n",
    "\n",
    "***Note***: The no-hitter data set was scraped and calculated from the data sets available at [retrosheet.org](http://www.retrosheet.org/) ([license](http://www.retrosheet.org/notice.txt)).\n",
    "\n",
    "**Possible Answers**\n",
    "\n",
    "* ~~Discrete uniform~~\n",
    "* ~~Binomial~~\n",
    "* ~~Poisson~~\n",
    "* __**Both Binomial and Poisson, though Poisson is easier to model and compute.**__\n",
    "* ~~Both Binomial and Poisson, though Binomial is easier to model and compute.~~\n",
    "\n",
    "**With rare events (low p, high n), the Binomial distribution is Poisson. This has a single parameter, the mean number of successes per time interval, in this case the mean number of no-hitters per season.**"
   ]
  },
  {
   "cell_type": "markdown",
   "metadata": {},
   "source": [
    "### Was 2015 anomalous?\n",
    "\n",
    "1990 and 2015 featured the most no-hitters of any season of baseball (there were seven). Given that there are on average 251/115 no-hitters per season, what is the probability of having seven or more in a season?\n",
    "\n",
    "**Instructions**\n",
    "\n",
    "* Draw `10000` samples from a Poisson distribution with a mean of `251/115` and assign to `n_nohitters`.\n",
    "* Determine how many of your samples had a result greater than or equal to `7` and assign to `n_large`.\n",
    "* Compute the probability, `p_large`, of having `7` or more no-hitters by dividing `n_large` by the total number of samples (`10000`).\n",
    "* Hit 'Submit Answer' to print the probability that you calculated."
   ]
  },
  {
   "cell_type": "code",
   "execution_count": 69,
   "metadata": {},
   "outputs": [
    {
     "name": "stdout",
     "output_type": "stream",
     "text": [
      "Probability of seven or more no-hitters: 0.0078\n"
     ]
    }
   ],
   "source": [
    "# Draw 10,000 samples out of Poisson distribution: n_nohitters\n",
    "n_nohitters = np.random.poisson(251/115, size=10_000)\n",
    "\n",
    "# Compute number of samples that are seven or greater: n_large\n",
    "n_large = np.sum(n_nohitters >= 7)\n",
    "\n",
    "# Compute probability of getting seven or more: p_large\n",
    "p_large = n_large/10_000\n",
    "\n",
    "# Print the result\n",
    "print(f'Probability of seven or more no-hitters: {p_large}')"
   ]
  },
  {
   "cell_type": "markdown",
   "metadata": {},
   "source": [
    "**The result is about 0.007. This means that it is not that improbable to see a 7-or-more no-hitter season in a century. There have been two in a century and a half, so it is not unreasonable.**"
   ]
  },
  {
   "cell_type": "markdown",
   "metadata": {},
   "source": [
    "# Thinking probabilistically: Continuous variables\n",
    "\n",
    "Probability distributions of discrete variables have been covered so far. This final section will cover continuous variables, such as those that can take on any fractional value. Many of the principles are the same, but there are some subtleties. At the end of this chapter, you will be speaking the probabilistic language required to launch into the inference techniques covered in [Statistical Thinking in Python (Part 2)](https://www.datacamp.com/courses/statistical-thinking-in-python-part-2)."
   ]
  },
  {
   "cell_type": "markdown",
   "metadata": {},
   "source": [
    "## Probability density functions\n",
    "\n",
    "We have talked about probabilities of discrete quantities, such as die rolls and number of bus arrivals, but what about continuous quantities?  A continuous quantity can take on any value, not just discrete ones.  For example, the speed of a train can be 45.76 km/h.  Continuous variables also have probability distributions.  Let's consider an example.  In 1879, Albert Michelson performed 100 measurements of the speed of light in air.  Each measurement has some error in it; conditions, such as temperature, humidity, alignment of his optics, etc., change from measurement to measurement.  As a result, any fractional value of the measured speed of light is possible, so it's apt to describe the results with a continuous probability distribution.  In looking at Michelson's numbers, show here in units of 1000 km/s, we see this is the case.  **What probability distribution describes these data?**  I posit, these data follow the **Normal Distribution**.  To understand what the normal distribution is, lets consider its **probability density function** (PDF).  This is the continuous analog to the **probability mass function** (PMF).  ___It describes the chances of observing a  value of a continuous variable___.  The probability of observing a single value of the speed of light, does not make sense, because there is an infinity of numbers, between 299,600 and 300,100 km/s.  Instead, areas under the PDF, give probabilities.  The probability of measuring the speed of light is greater the 300,000 km/s is an area under the normal curve.  Parameterizing the PDF based on Michelson's experiments, this is about a 3% chance, since the pink region is about 3% of the total area under the PDF.  To do this calculation, we were really just looking at the cumulative distribution function (CDF), of the Normal distribution.  Here's the CDF of the Normal distribution.  Remember, the CDF gives the probability, the measured speed of light will be less than the value on the x-axis.  Reading off the value at 300,000 km/s, there is a 97% chance, the speed of light measurement, is less than that.  There's about a 3% chance it's greater.\n",
    "\n",
    "We will study the Normal distribution in more depth in the coming exercises, but for now, let's review some of the concepts we've learned about continuous distribution functions.\n",
    "\n",
    "### Continuous Variables\n",
    "- Quantities that can take any value, not just discrete values\n",
    "\n",
    "### Probability Density Function (PDF)\n",
    "- Continuous analog to the PMF\n",
    "- Mathematical description of the relative likelihood of observing a value of a continuous variable\n",
    "\n",
    "![area under pdf][1]\n",
    "\n",
    "### Normal Cumulative Distribution Function (CDF)\n",
    "\n",
    "![cdf][2]\n",
    "![cdf_97][3]\n",
    "\n",
    " [1]: https://raw.githubusercontent.com/trenton3983/DataCamp/master/Images/statistical_thinking_1/area_under_pdf.JPG\n",
    " [2]: https://raw.githubusercontent.com/trenton3983/DataCamp/master/Images/statistical_thinking_1/cdf.JPG\n",
    " [3]: https://raw.githubusercontent.com/trenton3983/DataCamp/master/Images/statistical_thinking_1/cdf_97.JPG"
   ]
  },
  {
   "cell_type": "code",
   "execution_count": 70,
   "metadata": {},
   "outputs": [],
   "source": [
    "df = pd.read_csv(sol_file)"
   ]
  },
  {
   "cell_type": "code",
   "execution_count": 71,
   "metadata": {},
   "outputs": [
    {
     "data": {
      "image/png": "[encoded data removed]",
      "text/plain": [
       "<Figure size 432x288 with 1 Axes>"
      ]
     },
     "metadata": {},
     "output_type": "display_data"
    }
   ],
   "source": [
    "sns.distplot(df['velocity of light in air (km/s)'], bins=9)\n",
    "plt.show()"
   ]
  },
  {
   "cell_type": "markdown",
   "metadata": {},
   "source": [
    "### Interpreting PDFs\n",
    "\n",
    "Consider the PDF shown here. Which of the following is true?\n",
    "\n",
    "![interpret_pdf][1]\n",
    "\n",
    "**Instructions**\n",
    "\n",
    "* __**x is more likely than not less than 10.**__\n",
    "* ~~___x___ is more likely than not greater than 10.~~\n",
    "* ~~We cannot tell from the PDF if ___x___ is more likely to be greater than or less than 10.~~\n",
    "* ~~This is not a valid PDF because it has two peaks.~~\n",
    "\n",
    " [1]: https://raw.githubusercontent.com/trenton3983/DataCamp/master/Images/statistical_thinking_1/interpret_pdf.JPG"
   ]
  },
  {
   "cell_type": "markdown",
   "metadata": {},
   "source": [
    "### Interpreting CDFs\n",
    "\n",
    "At right is the CDF corresponding to the PDF you considered in the last exercise. Using the CDF, what is the probability that **x** is greater than 10?\n",
    "\n",
    "![interpret_cdf][1]\n",
    "\n",
    "**Instructions**\n",
    "\n",
    "* __**0.25: Correct! The value of the CDF at x = 10 is 0.75, so the probability that x < 10 is 0.75. Thus, the probability that x > 10 is 0.25.**__\n",
    "* ~~0.75~~\n",
    "* ~~3.75~~\n",
    "* ~~15~~\n",
    "\n",
    " [1]: https://raw.githubusercontent.com/trenton3983/DataCamp/master/Images/statistical_thinking_1/interpret_cdf.JPG"
   ]
  },
  {
   "cell_type": "markdown",
   "metadata": {},
   "source": [
    "## Introduction to the Normal distribution\n",
    "\n",
    "The Normal distribution is famous, and we just used it as an example to learn about continuous distributions.  It describes a continuous variable whose PDF is symmetric and has a single peak.  The Normal distribution is parameterized by two parameters.  The **mean** determines where the center of the peak is.  The **standard deviation** is a measure of how wide the peak is, or how spread out the data are.  Note, the mean and standard deviation are the names of the parameters of the Normal distribution.  **Don't confuse these with the mean and standard deviation we computed directly from the data when doing exploratory data analysis**.  The nomenclature is confusing, but it's important to keep straight.  Adding a histogram of the Michelson measurements, shows the measured speed of light in air, looks Normally distributed.  Comparing the histogram to the PDF, suffers from binning bias, therefore, it's better to compare the ECDF of the data, to the theoretical CDF of the Normal distribution.  To compute the theoretical CDF, use `np.random.normal`, to draw samples, then compute the CDF.  As was the case with sampling out of the binomial distribution, we need to provide parameters, in this case, the mean and standard deviation, to parameterize the Normal distribution we are sampling out of.  The mean and standard deviations computed from the data are good estimates, so we'll compute and pass them into `np.random.normal` to take our samples.  We then use the `def ecdf` function we already wrote, to compute the ECDFs of the data and of the Normally distributed theoretical samples we just drew.  Finally, plot the theoretical and empirical CDFs on the same plot.  With the absence of binning bias, it's much clearer that the Michelson data are approximately Normally distributed.  Now that you can sample out of the Normal distribution, let's practice using it.\n",
    "\n",
    "### Normal distribution\n",
    "\n",
    "- Describes a continuous variable whose PDF has a single symmetric peak\n",
    "- `mean of Normal distribution ≠ mean computed from data`\n",
    "- `standard deviation of a Normal distribution ≠ standard deviation computed from data`\n",
    "\n",
    "![normal_distribution][1]\n",
    "\n",
    " [1]: https://raw.githubusercontent.com/trenton3983/DataCamp/master/Images/statistical_thinking_1/normal_distribution.JPG"
   ]
  },
  {
   "cell_type": "code",
   "execution_count": 72,
   "metadata": {},
   "outputs": [
    {
     "data": {
      "image/png": "[encoded data removed]",
      "text/plain": [
       "<Figure size 432x288 with 1 Axes>"
      ]
     },
     "metadata": {},
     "output_type": "display_data"
    }
   ],
   "source": [
    "mean = np.mean(df['velocity of light in air (km/s)'])\n",
    "std = np.std(df['velocity of light in air (km/s)'])\n",
    "\n",
    "samples = np.random.normal(mean, std, size=10000)\n",
    "x, y = ecdf(df['velocity of light in air (km/s)'])\n",
    "x_theor, y_theor = ecdf(samples)\n",
    "\n",
    "sns.set()\n",
    "plt.plot(x_theor, y_theor, label='theoretical')\n",
    "plt.plot(x, y, marker='.', linestyle='none', label='measured', color='purple')\n",
    "plt.legend()\n",
    "plt.xlabel('speed of light (km/s)')\n",
    "plt.ylabel('CDF')\n",
    "plt.show()"
   ]
  },
  {
   "cell_type": "markdown",
   "metadata": {},
   "source": [
    "### The Normal PDF\n",
    "\n",
    "In this exercise, you will explore the Normal PDF and also learn a way to plot a PDF of a known distribution using hacker statistics. Specifically, you will plot a Normal PDF for various values of the variance.\n",
    "\n",
    "**Instructions**\n",
    "\n",
    "* Draw 100,000 samples from a Normal distribution that has a mean of `20` and a standard deviation of `1`. Do the same for Normal distributions with standard deviations of `3` and `10`, each still with a mean of `20`. Assign the results to `samples_std1`, `samples_std3` and `samples_std10`, respectively.\n",
    "* Plot a histograms of each of the samples; for each, use 100 bins, also using the keyword arguments `normed=True` and `histtype='step'`. The latter keyword argument makes the plot look much like the smooth theoretical PDF. You will need to make 3 `plt.hist()` calls.\n",
    "* Hit 'Submit Answer' to make a legend, showing which standard deviations you used, and show your plot! There is no need to label the axes because we have not defined what is being described by the Normal distribution; we are just looking at shapes of PDFs."
   ]
  },
  {
   "cell_type": "code",
   "execution_count": 73,
   "metadata": {},
   "outputs": [
    {
     "data": {
      "image/png": "[encoded data removed]",
      "text/plain": [
       "<Figure size 504x504 with 1 Axes>"
      ]
     },
     "metadata": {},
     "output_type": "display_data"
    }
   ],
   "source": [
    "# Draw 100000 samples from Normal distribution with stds of interest: samples_std1, samples_std3, samples_std10\n",
    "samples_std1 = np.random.normal(20, 1, size=100000)\n",
    "samples_std3 = np.random.normal(20, 3, size=100000)\n",
    "samples_std10 = np.random.normal(20, 10, size=100000)\n",
    "\n",
    "# Make histograms\n",
    "plt.figure(figsize=(7, 7))\n",
    "for data in [samples_std1, samples_std3, samples_std10]:\n",
    "    plt.hist(data, density=True, bins=100, histtype='step')\n",
    "\n",
    "# Make a legend, set limits and show plot\n",
    "plt.legend(('std = 1', 'std = 3', 'std = 10'))\n",
    "plt.ylim(-0.01, 0.42)\n",
    "plt.show()"
   ]
  },
  {
   "cell_type": "markdown",
   "metadata": {},
   "source": [
    "**You can see how the different standard deviations result in PDFs of different widths. The peaks are all centered at the mean of 20.**"
   ]
  },
  {
   "cell_type": "markdown",
   "metadata": {},
   "source": [
    "### The Normal CDF\n",
    "\n",
    "Now that you have a feel for how the Normal PDF looks, let's consider its CDF. Using the samples you generated in the last exercise (in your namespace as `samples_std1`, `samples_std3`, and `samples_std10`), generate and plot the CDFs.\n",
    "\n",
    "**Instructions**\n",
    "\n",
    "* Use your `ecdf()` function to generate x and y values for CDFs: `x_std1`, `y_std1`, `x_std3`, `y_std3` and `x_std10`, `y_std10`, respectively.\n",
    "* Plot all three CDFs as dots (do not forget the `marker` and `linestyle` keyword arguments!).\n",
    "* Hit submit to make a legend, showing which standard deviations you used, and to show your plot. There is no need to label the axes because we have not defined what is being described by the Normal distribution; we are just looking at shapes of CDFs."
   ]
  },
  {
   "cell_type": "code",
   "execution_count": 74,
   "metadata": {},
   "outputs": [
    {
     "data": {
      "image/png": "[encoded data removed]",
      "text/plain": [
       "<Figure size 432x288 with 1 Axes>"
      ]
     },
     "metadata": {},
     "output_type": "display_data"
    }
   ],
   "source": [
    "# Generate and Plot CDFs\n",
    "for data in [samples_std1, samples_std3, samples_std10]:\n",
    "    x_theor, y_theor = ecdf(data)\n",
    "    plt.plot(x_theor, y_theor, marker='.', linestyle='none')\n",
    "\n",
    "\n",
    "# Make a legend and show the plot\n",
    "_ = plt.legend(('std = 1', 'std = 3', 'std = 10'), loc='lower right')\n",
    "plt.show()"
   ]
  },
  {
   "cell_type": "markdown",
   "metadata": {},
   "source": [
    "**The CDFs all pass through the mean at the 50th percentile; the mean and median of a Normal distribution are equal. The width of the CDF varies with the standard deviation.**"
   ]
  },
  {
   "cell_type": "markdown",
   "metadata": {},
   "source": [
    "## The Normal distribution: Properties and warnings"
   ]
  },
  {
   "cell_type": "markdown",
   "metadata": {},
   "source": [
    "### Are the Belmont Stakes results Normally distributed?\n",
    "\n",
    "Since 1926, the Belmont Stakes is a 1.5 mile-long race of 3-year old thoroughbred horses. Secretariat ran the fastest Belmont Stakes in history in 1973. While that was the fastest year, 1970 was the slowest because of unusually wet and sloppy conditions. With these two outliers removed from the data set, it is loaded to belmont_no_outliers."
   ]
  },
  {
   "cell_type": "code",
   "execution_count": 75,
   "metadata": {},
   "outputs": [],
   "source": [
    "belmont = pd.read_csv(belmont_file)\n",
    "belmont_no_outliers = belmont[~((belmont['Year'] == 1970) | (belmont['Year'] == 1973))].Time"
   ]
  },
  {
   "cell_type": "code",
   "execution_count": 76,
   "metadata": {},
   "outputs": [],
   "source": [
    "def convert(x): \n",
    "    return float(x.split(':')[0]) * 60 + float(x.split(':')[1].split('.')[0]) + float(x.split('.')[-1])/100\n",
    "belmont_no_outliers = belmont_no_outliers.apply(convert)"
   ]
  },
  {
   "cell_type": "code",
   "execution_count": 77,
   "metadata": {},
   "outputs": [
    {
     "data": {
      "image/png": "[encoded data removed]",
      "text/plain": [
       "<Figure size 432x288 with 1 Axes>"
      ]
     },
     "metadata": {},
     "output_type": "display_data"
    }
   ],
   "source": [
    "# Compute mean and standard deviation: mu, sigma\n",
    "mu = np.mean(belmont_no_outliers)\n",
    "sigma = np.std(belmont_no_outliers)\n",
    "\n",
    "# Sample out of a normal distribution with this mu and sigma: samples\n",
    "samples = np.random.normal(mu, sigma, 10000)\n",
    "\n",
    "# Get the CDF of the samples and of the data\n",
    "x_theor, y_theor = ecdf(samples)\n",
    "x, y = ecdf(belmont_no_outliers)\n",
    "\n",
    "# Plot the CDFs and show the plot\n",
    "_ = plt.plot(x_theor, y_theor)\n",
    "_ = plt.plot(x, y, marker='.', linestyle='none')\n",
    "_ = plt.xlabel('Belmont winning time (sec.)')\n",
    "_ = plt.ylabel('CDF')"
   ]
  },
  {
   "cell_type": "markdown",
   "metadata": {},
   "source": [
    "### What are the chances of a horse matching or beating Secretariat's record?"
   ]
  },
  {
   "cell_type": "code",
   "execution_count": 78,
   "metadata": {},
   "outputs": [
    {
     "name": "stdout",
     "output_type": "stream",
     "text": [
      "Probability of besting Secretariat: 0.000653\n"
     ]
    }
   ],
   "source": [
    "mu = 149.22101123595507 \n",
    "sigma = 1.627816471774816\n",
    "\n",
    "# Take a million samples out of the Normal distribution: samples\n",
    "samples = np.random.normal(mu, sigma, 1000000)\n",
    "\n",
    "# Compute the fraction that are faster than 144 seconds: prob\n",
    "prob = np.sum(samples <= 144) / 1000000\n",
    "\n",
    "# Print the result\n",
    "print('Probability of besting Secretariat:', prob)"
   ]
  },
  {
   "cell_type": "markdown",
   "metadata": {},
   "source": [
    "We had to take a million samples because the probability of a fast time is very low and we had to be sure to sample enough. We get that there is only a 0.06% chance of a horse running the Belmont as fast as Secretariat."
   ]
  },
  {
   "cell_type": "markdown",
   "metadata": {},
   "source": [
    "## The Exponential distribution"
   ]
  },
  {
   "cell_type": "markdown",
   "metadata": {},
   "source": [
    "### If you have a story, you can simulate it!\n",
    "\n",
    "Sometimes, the story describing our probability distribution does not have a named distribution to go along with it. In these cases, fear not! You can always simulate it. We'll do that in this and the next exercise.\n",
    "\n",
    "In earlier exercises, we looked at the rare event of no-hitters in Major League Baseball. Hitting the cycle is another rare baseball event. When a batter hits the cycle, he gets all four kinds of hits, a single, double, triple, and home run, in a single game. Like no-hitters, this can be modeled as a Poisson process, so the time between hits of the cycle are also Exponentially distributed.\n",
    "\n",
    "How long must we wait to see both a no-hitter and then a batter hit the cycle? The idea is that we have to wait some time for the no-hitter, and then after the no-hitter, we have to wait for hitting the cycle. Stated another way, what is the total waiting time for the arrival of two different Poisson processes? The total waiting time is the time waited for the no-hitter, plus the time waited for the hitting the cycle."
   ]
  },
  {
   "cell_type": "code",
   "execution_count": 79,
   "metadata": {},
   "outputs": [],
   "source": [
    "def successive_poisson(tau1, tau2, size=1):\n",
    "    \"\"\"Compute time for arrival of 2 successive Poisson processes.\"\"\"\n",
    "    # Draw samples out of first exponential distribution: t1\n",
    "    t1 = np.random.exponential(tau1, size)\n",
    "\n",
    "    # Draw samples out of second exponential distribution: t2\n",
    "    t2 = np.random.exponential(tau2, size)\n",
    "\n",
    "    return t1 + t2"
   ]
  },
  {
   "cell_type": "markdown",
   "metadata": {},
   "source": [
    "### Distribution of no-hitters and cycles\n",
    "Use the sampling function to compute the waiting time to observe a no-hitter and hitting of the cycle. The mean waiting time for a no-hitter is 764 games, and the mean waiting time for hitting the cycle is 715 games."
   ]
  },
  {
   "cell_type": "code",
   "execution_count": 80,
   "metadata": {},
   "outputs": [
    {
     "data": {
      "image/png": "[encoded data removed]",
      "text/plain": [
       "<Figure size 432x288 with 1 Axes>"
      ]
     },
     "metadata": {},
     "output_type": "display_data"
    }
   ],
   "source": [
    "# Draw samples of waiting times\n",
    "waiting_times = successive_poisson(764, 715, size=100000)\n",
    "\n",
    "# Make the histogram\n",
    "_ = plt.hist(waiting_times, bins=100, histtype='step',\n",
    "             density=True)\n",
    "\n",
    "# Label axes\n",
    "_ = plt.xlabel('total waiting time (games)')\n",
    "_ = plt.ylabel('PDF')"
   ]
  },
  {
   "cell_type": "markdown",
   "metadata": {},
   "source": [
    "Notice that the PDF is peaked, unlike the waiting time for a single Poisson process. For fun (and enlightenment), I encourage you to also plot the CDF."
   ]
  },
  {
   "cell_type": "code",
   "execution_count": 81,
   "metadata": {},
   "outputs": [
    {
     "data": {
      "text/plain": [
       "Text(0, 0.5, 'CDF')"
      ]
     },
     "execution_count": 81,
     "metadata": {},
     "output_type": "execute_result"
    },
    {
     "data": {
      "image/png": "[encoded data removed]",
      "text/plain": [
       "<Figure size 432x288 with 1 Axes>"
      ]
     },
     "metadata": {},
     "output_type": "display_data"
    }
   ],
   "source": [
    "x,y = ecdf(waiting_times)\n",
    "\n",
    "plt.plot(x,y, marker='.', linestyle='none')\n",
    "plt.xlabel('time')\n",
    "plt.ylabel('CDF')"
   ]
  }
 ],
 "metadata": {
  "kernelspec": {
   "display_name": "Python 3",
   "language": "python",
   "name": "python3"
  },
  "language_info": {
   "codemirror_mode": {
    "name": "ipython",
    "version": 3
   },
   "file_extension": ".py",
   "mimetype": "text/x-python",
   "name": "python",
   "nbconvert_exporter": "python",
   "pygments_lexer": "ipython3",
   "version": "3.7.1"
  },
  "toc": {
   "base_numbering": 1,
   "nav_menu": {},
   "number_sections": true,
   "sideBar": true,
   "skip_h1_title": false,
   "title_cell": "Table of Contents",
   "title_sidebar": "Contents",
   "toc_cell": true,
   "toc_position": {},
   "toc_section_display": true,
   "toc_window_display": true
  },
  "toc-autonumbering": true,
  "varInspector": {
   "cols": {
    "lenName": 16,
    "lenType": 16,
    "lenVar": 40
   },
   "kernels_config": {
    "python": {
     "delete_cmd_postfix": "",
     "delete_cmd_prefix": "del ",
     "library": "var_list.py",
     "varRefreshCmd": "print(var_dic_list())"
    },
    "r": {
     "delete_cmd_postfix": ") ",
     "delete_cmd_prefix": "rm(",
     "library": "var_list.r",
     "varRefreshCmd": "cat(var_dic_list()) "
    }
   },
   "position": {
    "height": "282.997px",
    "left": "1368px",
    "right": "20px",
    "top": "109.98px",
    "width": "350px"
   },
   "types_to_exclude": [
    "module",
    "function",
    "builtin_function_or_method",
    "instance",
    "_Feature"
   ],
   "window_display": false
  }
 },
 "nbformat": 4,
 "nbformat_minor": 4
}
